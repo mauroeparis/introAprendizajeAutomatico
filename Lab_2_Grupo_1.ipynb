{
 "cells": [
  {
   "cell_type": "markdown",
   "metadata": {},
   "source": [
    "> Trabajo del grupo 1 de Introducción al Aprendizaje Automático\n",
    ">\n",
    "> Miembros: Damián Campana, Daniel Peralta, Fernando Fontana, Gaspar García Bazán, Javier Gallo, Mauro Paris."
   ]
  },
  {
   "cell_type": "markdown",
   "metadata": {
    "nteract": {
     "transient": {
      "deleting": false
     }
    }
   },
   "source": [
    "# Laboratorio 2: Armado de un esquema de aprendizaje automático\n"
   ]
  },
  {
   "cell_type": "code",
   "execution_count": 2,
   "metadata": {
    "nteract": {
     "transient": {
      "deleting": false
     }
    }
   },
   "outputs": [],
   "source": [
    "import numpy as np\n",
    "import pandas as pd\n",
    "\n",
    "# TODO: Agregar las librerías que hagan falta\n",
    "from sklearn.model_selection import train_test_split\n",
    "\n",
    "from utils import display_markdown"
   ]
  },
  {
   "cell_type": "markdown",
   "metadata": {
    "nteract": {
     "transient": {
      "deleting": false
     }
    }
   },
   "source": [
    "## Carga de datos y división en entrenamiento y evaluación\n",
    "\n",
    "La celda siguiente se encarga de la carga de datos (haciendo uso de pandas).\n",
    "Estos serán los que se trabajarán en el resto del laboratorio.\n"
   ]
  },
  {
   "cell_type": "code",
   "execution_count": 3,
   "metadata": {
    "nteract": {
     "transient": {
      "deleting": false
     }
    }
   },
   "outputs": [],
   "source": [
    "dataset = pd.read_csv(\"./data/loan_data.csv\", comment=\"#\")\n",
    "\n",
    "# División entre instancias y etiquetas\n",
    "X, y = dataset.iloc[:, 1:], dataset.TARGET\n",
    "\n",
    "# división entre entrenamiento y evaluación\n",
    "X_train, X_test, y_train, y_test = train_test_split(\n",
    "    X, y, test_size=0.2, random_state=0)\n",
    "\n",
    "RANDOM_STATE_SEED = 42\n"
   ]
  },
  {
   "cell_type": "markdown",
   "metadata": {
    "nteract": {
     "transient": {
      "deleting": false
     }
    }
   },
   "source": [
    "## Ejercicio 1: Descripción de los Datos y la Tarea\n",
    "\n",
    "Responder las siguientes preguntas:\n",
    "\n",
    "1. ¿De qué se trata el conjunto de datos?\n",
    "2. ¿Cuál es la variable objetivo que hay que predecir? ¿Qué significado tiene?\n",
    "3. ¿Qué información (atributos) hay disponible para hacer la predicción?\n",
    "4. ¿Qué atributos imagina ud. que son los más determinantes para la predicción?\n"
   ]
  },
  {
   "cell_type": "markdown",
   "metadata": {
    "nteract": {
     "transient": {
      "deleting": false
     }
    }
   },
   "source": [
    "### Respuestas:\n",
    "\n",
    "**1.** El conjunto de datos contiene información de préstamos hipotecarios. Cada fila del conjunto representa un préstamo.\n",
    "\n",
    "**2.** La variable objetivo es la variable binaria `TARGET`. Determina si el aplicante al préstamo tuvo problemas para pagar (o nunca pudo pagar, `TARGET=1`) o pagó a término (`TARGET=0`).\n",
    "\n",
    "**3.** Tenemos los siguientes atributos para hacer la predicción:\n",
    "\n",
    "- _LOAN_: Monto solicitado por el aplicante.\n",
    "- _MORTDUE_: Monto que adeuda de la hipoteca actual.\n",
    "- _VALUE_: Valor de la propiedad actual.\n",
    "- _YOJ_: Años que lleva en el trabajo actual.\n",
    "- _DEROG_: Número de informes muy desfavorables.\n",
    "- _DELINQ_: Número de líneas de crédito morosas.\n",
    "- _CLAGE_: Cantidad de meses desde la última transacción.\n",
    "- _NINQ_: Número de líneas de crédito recientes.\n",
    "- _CLNO_: Número de líneas de crédito.\n",
    "- _DEBTINC_: Ratio de deuda a salario.\n",
    "\n",
    "**4.** Creemos que `DELINQ`, `DEBTINC` y `LOAN` deben ser los que más afecten al\n",
    "resultado."
   ]
  },
  {
   "cell_type": "markdown",
   "metadata": {
    "nteract": {
     "transient": {
      "deleting": false
     }
    }
   },
   "source": [
    "## Ejercicio 2: Predicción con Modelos Lineales\n",
    "\n",
    "En este ejercicio se entrenarán modelos lineales de clasificación para predecir\n",
    " la variable objetivo.\n",
    "\n",
    "Para ello, deberán utilizar la clase SGDClassifier de scikit-learn.\n",
    "\n",
    "Documentación:\n",
    "- https://scikit-learn.org/stable/modules/sgd.html\n",
    "- https://scikit-learn.org/stable/modules/generated/sklearn.linear_model.SGDClassifier.html\n",
    "\n"
   ]
  },
  {
   "cell_type": "markdown",
   "metadata": {
    "nteract": {
     "transient": {
      "deleting": false
     }
    }
   },
   "source": [
    "## Ejercicio 2.1: SGDClassifier con hiperparámetros por defecto\n",
    "\n",
    "Entrenar y evaluar el clasificador SGDClassifier usando los valores por omisión\n",
    " de scikit-learn para todos los parámetros. Únicamente **fijar la semilla\n",
    "  aleatoria** para hacer repetible el experimento.\n",
    "\n",
    "Evaluar sobre el conjunto de **entrenamiento** y sobre el conjunto de\n",
    " **evaluación**, reportando:\n",
    "- Accuracy\n",
    "- Precision\n",
    "- Recall\n",
    "- F1\n",
    "- matriz de confusión\n"
   ]
  },
  {
   "cell_type": "markdown",
   "metadata": {},
   "source": [
    "- La métrica __accuracy__ representa el ratio entre predicciones correctas y total de predicciones (o tamaño del conjunto de entrenamiento). Esta medida funciona bien si existe una cantidad relativamente equivalente de entradas pertenecientes a cada clase, en caso contrario no será confiable o representativo. Esto puede verse por ejemplo en un caso donde el 98% de las entradas del conjunto de entrenamiento son negativas (en contraposición a positivas). En tal situación un modelo que realice todas predicciones negativas tendrá un accuracy de 98%. Si se tratara de un diagnóstico médico, confiar en un modelo que predice de esta forma sería un grave error en tanto existirán dos falsos negativos cuya salud podrá verse comprometida.\n",
    "\n",
    "\n",
    "- Por un lado, __Recall__ o _True Positive Rate_ se define como la proporción entre verdaderos positivos (predicciones positivas correctas) y el total de positivos en la muestra (Verdaderos Positivos + Falsos Negativos). Por otro lado __Precision__ se define como la proporción entre verdaderos positivos y el total de predicciones postivas (verdaderos positivos + Falsos Positivos).\n",
    "En general, existe un trade-off entre Recall y Precision. Si todas las predicciones son positivas tendré una tasa de Recall de 100%. Sin embargo, esto afectaría la precision en tanto incrementaría la cantidad de falsos positivos.\n",
    "\n",
    "\n",
    "- La medida __F1__ es la media armónica entre _Recall_ y _Precision_. Se basa en la idea del trade-off entre estas métricas anteriormente mencionado. Mientras más cerca de 1 se encuentre F1 mejor será el desempeño del modelo."
   ]
  },
  {
   "cell_type": "code",
   "execution_count": 4,
   "metadata": {
    "nteract": {
     "transient": {
      "deleting": false
     }
    }
   },
   "outputs": [],
   "source": [
    "from sklearn.linear_model import SGDClassifier\n",
    "from sklearn.preprocessing import StandardScaler\n",
    "from sklearn.pipeline import make_pipeline\n",
    "\n",
    "clf = make_pipeline(\n",
    "    StandardScaler(),\n",
    "    SGDClassifier(random_state=RANDOM_STATE_SEED)\n",
    ")\n",
    "\n",
    "clf.fit(X_train, y_train)\n",
    "\n",
    "y_pred = clf.predict(X_test)\n",
    "train_y_pred = clf.predict(X_train)\n"
   ]
  },
  {
   "cell_type": "code",
   "execution_count": 5,
   "metadata": {
    "nteract": {
     "transient": {
      "deleting": false
     }
    }
   },
   "outputs": [
    {
     "data": {
      "text/markdown": [
       "### Train metrics"
      ],
      "text/plain": [
       "<IPython.core.display.Markdown object>"
      ]
     },
     "metadata": {},
     "output_type": "display_data"
    },
    {
     "data": {
      "text/markdown": [
       "* Accuracy Score: 0.8260283209710048"
      ],
      "text/plain": [
       "<IPython.core.display.Markdown object>"
      ]
     },
     "metadata": {},
     "output_type": "display_data"
    },
    {
     "data": {
      "text/markdown": [
       "* Precision Score: 0.4768211920529801"
      ],
      "text/plain": [
       "<IPython.core.display.Markdown object>"
      ]
     },
     "metadata": {},
     "output_type": "display_data"
    },
    {
     "data": {
      "text/markdown": [
       "* Recall Score: 0.2868525896414343"
      ],
      "text/plain": [
       "<IPython.core.display.Markdown object>"
      ]
     },
     "metadata": {},
     "output_type": "display_data"
    },
    {
     "data": {
      "text/markdown": [
       "* F1 Score: 0.35820895522388063"
      ],
      "text/plain": [
       "<IPython.core.display.Markdown object>"
      ]
     },
     "metadata": {},
     "output_type": "display_data"
    },
    {
     "data": {
      "text/markdown": [
       "### Test metrics"
      ],
      "text/plain": [
       "<IPython.core.display.Markdown object>"
      ]
     },
     "metadata": {},
     "output_type": "display_data"
    },
    {
     "data": {
      "text/markdown": [
       "* Accuracy Score: 0.8194070080862533"
      ],
      "text/plain": [
       "<IPython.core.display.Markdown object>"
      ]
     },
     "metadata": {},
     "output_type": "display_data"
    },
    {
     "data": {
      "text/markdown": [
       "* Precision Score: 0.3783783783783784"
      ],
      "text/plain": [
       "<IPython.core.display.Markdown object>"
      ]
     },
     "metadata": {},
     "output_type": "display_data"
    },
    {
     "data": {
      "text/markdown": [
       "* Recall Score: 0.2413793103448276"
      ],
      "text/plain": [
       "<IPython.core.display.Markdown object>"
      ]
     },
     "metadata": {},
     "output_type": "display_data"
    },
    {
     "data": {
      "text/markdown": [
       "* F1 Score: 0.29473684210526313"
      ],
      "text/plain": [
       "<IPython.core.display.Markdown object>"
      ]
     },
     "metadata": {},
     "output_type": "display_data"
    }
   ],
   "source": [
    "from sklearn.metrics import (\n",
    "    accuracy_score,\n",
    "    recall_score,\n",
    "    precision_score,\n",
    "    f1_score,\n",
    ")\n",
    "\n",
    "display_markdown('### Train metrics')\n",
    "display_markdown(f'* Accuracy Score: {accuracy_score(y_train, train_y_pred)}')\n",
    "display_markdown(f'* Precision Score: {precision_score(y_train, train_y_pred)}')\n",
    "display_markdown(f'* Recall Score: {recall_score(y_train, train_y_pred)}')\n",
    "display_markdown(f'* F1 Score: {f1_score(y_train, train_y_pred)}')\n",
    "\n",
    "display_markdown('### Test metrics')\n",
    "display_markdown(f'* Accuracy Score: {accuracy_score(y_test, y_pred)}')\n",
    "display_markdown(f'* Precision Score: {precision_score(y_test, y_pred)}')\n",
    "display_markdown(f'* Recall Score: {recall_score(y_test, y_pred)}')\n",
    "display_markdown(f'* F1 Score: {f1_score(y_test, y_pred)}')\n"
   ]
  },
  {
   "cell_type": "code",
   "execution_count": 6,
   "metadata": {
    "nteract": {
     "transient": {
      "deleting": false
     }
    }
   },
   "outputs": [
    {
     "data": {
      "text/markdown": [
       "### Confusion Matrix"
      ],
      "text/plain": [
       "<IPython.core.display.Markdown object>"
      ]
     },
     "metadata": {},
     "output_type": "display_data"
    },
    {
     "data": {
      "text/markdown": [
       "* True Negative: 290"
      ],
      "text/plain": [
       "<IPython.core.display.Markdown object>"
      ]
     },
     "metadata": {},
     "output_type": "display_data"
    },
    {
     "data": {
      "text/markdown": [
       "* False Positive: 23"
      ],
      "text/plain": [
       "<IPython.core.display.Markdown object>"
      ]
     },
     "metadata": {},
     "output_type": "display_data"
    },
    {
     "data": {
      "text/markdown": [
       "* False Negative: 44"
      ],
      "text/plain": [
       "<IPython.core.display.Markdown object>"
      ]
     },
     "metadata": {},
     "output_type": "display_data"
    },
    {
     "data": {
      "text/markdown": [
       "* True Positive: 14"
      ],
      "text/plain": [
       "<IPython.core.display.Markdown object>"
      ]
     },
     "metadata": {},
     "output_type": "display_data"
    }
   ],
   "source": [
    "from sklearn.metrics import confusion_matrix\n",
    "\n",
    "tn, fp, fn, tp = confusion_matrix(y_test, y_pred).ravel()\n",
    "\n",
    "display_markdown('### Confusion Matrix')\n",
    "display_markdown(f'* True Negative: {tn}')\n",
    "display_markdown(f'* False Positive: {fp}')\n",
    "display_markdown(f'* False Negative: {fn}')\n",
    "display_markdown(f'* True Positive: {tp}')"
   ]
  },
  {
   "cell_type": "markdown",
   "metadata": {
    "nteract": {
     "transient": {
      "deleting": false
     }
    }
   },
   "source": [
    "## Ejercicio 2.2: Ajuste de Hiperparámetros\n",
    "\n",
    "Seleccionar valores para los hiperparámetros principales del SGDClassifier.\n",
    "Como mínimo, probar diferentes funciones de loss, tasas de entrenamiento\n",
    "y tasas de regularización.\n",
    "\n",
    "Para ello, usar grid-search y 5-fold cross-validation sobre el conjunto de\n",
    "entrenamiento para explorar muchas combinaciones posibles de valores.\n",
    "\n",
    "Reportar accuracy promedio y varianza para todas las configuraciones.\n",
    "\n",
    "Para la mejor configuración encontrada, evaluar sobre el conjunto de\n",
    "**entrenamiento** y sobre el conjunto de **evaluación**, reportando:\n",
    "\n",
    "- Accuracy\n",
    "- Precision\n",
    "- Recall\n",
    "- F1\n",
    "- matriz de confusión\n",
    "\n",
    "Documentación:\n",
    "- https://scikit-learn.org/stable/modules/grid_search.html\n",
    "- https://scikit-learn.org/stable/modules/generated/sklearn.model_selection.GridSearchCV.html\n"
   ]
  },
  {
   "cell_type": "code",
   "execution_count": 7,
   "metadata": {
    "nteract": {
     "transient": {
      "deleting": false
     }
    }
   },
   "outputs": [
    {
     "data": {
      "text/plain": [
       "GridSearchCV(cv=5, estimator=SGDClassifier(random_state=42),\n",
       "             param_grid={'eta0': [0.1, 0.25, 0.5, 1],\n",
       "                         'learning_rate': ['constant', 'optimal', 'invscaling',\n",
       "                                           'adaptive'],\n",
       "                         'loss': ['hinge', 'log', 'perceptron', 'huber',\n",
       "                                  'squared_hinge', 'modified_huber'],\n",
       "                         'max_iter': [1500],\n",
       "                         'penalty': ['l2', 'l1', 'elasticnet']},\n",
       "             scoring='accuracy')"
      ]
     },
     "execution_count": 7,
     "metadata": {},
     "output_type": "execute_result"
    }
   ],
   "source": [
    "from sklearn.model_selection import GridSearchCV\n",
    "\n",
    "\n",
    "model_grid_sgd = SGDClassifier(random_state=42)\n",
    "\n",
    "grid_values = {\n",
    "    \"loss\": [\"hinge\", \"log\", \"perceptron\", \"huber\", \"squared_hinge\", \"modified_huber\"], \n",
    "    \"penalty\" : [\"l2\", \"l1\", \"elasticnet\"], \n",
    "    \"learning_rate\" : [\"constant\",\"optimal\",\"invscaling\",\"adaptive\"],\n",
    "    \"eta0\" : [0.1,0.25,0.5,1],\n",
    "    \"max_iter\": [1500],\n",
    "}\n",
    "grid_clf_sgd = GridSearchCV(\n",
    "    model_grid_sgd, scoring= \"accuracy\",\n",
    "    param_grid = grid_values, cv=5\n",
    ")\n",
    "grid_clf_sgd.fit(X_train, y_train)"
   ]
  },
  {
   "cell_type": "code",
   "execution_count": 8,
   "metadata": {},
   "outputs": [
    {
     "data": {
      "text/html": [
       "<div>\n",
       "<style scoped>\n",
       "    .dataframe tbody tr th:only-of-type {\n",
       "        vertical-align: middle;\n",
       "    }\n",
       "\n",
       "    .dataframe tbody tr th {\n",
       "        vertical-align: top;\n",
       "    }\n",
       "\n",
       "    .dataframe thead th {\n",
       "        text-align: right;\n",
       "    }\n",
       "</style>\n",
       "<table border=\"1\" class=\"dataframe\">\n",
       "  <thead>\n",
       "    <tr style=\"text-align: right;\">\n",
       "      <th></th>\n",
       "      <th>param_loss</th>\n",
       "      <th>param_penalty</th>\n",
       "      <th>mean_test_score</th>\n",
       "      <th>std_test_score</th>\n",
       "      <th>rank_test_score</th>\n",
       "    </tr>\n",
       "  </thead>\n",
       "  <tbody>\n",
       "    <tr>\n",
       "      <th>252</th>\n",
       "      <td>hinge</td>\n",
       "      <td>l2</td>\n",
       "      <td>0.830749</td>\n",
       "      <td>0.001259</td>\n",
       "      <td>1</td>\n",
       "    </tr>\n",
       "    <tr>\n",
       "      <th>44</th>\n",
       "      <td>perceptron</td>\n",
       "      <td>elasticnet</td>\n",
       "      <td>0.830749</td>\n",
       "      <td>0.001259</td>\n",
       "      <td>1</td>\n",
       "    </tr>\n",
       "    <tr>\n",
       "      <th>38</th>\n",
       "      <td>hinge</td>\n",
       "      <td>elasticnet</td>\n",
       "      <td>0.830749</td>\n",
       "      <td>0.001259</td>\n",
       "      <td>1</td>\n",
       "    </tr>\n",
       "    <tr>\n",
       "      <th>258</th>\n",
       "      <td>perceptron</td>\n",
       "      <td>l2</td>\n",
       "      <td>0.830749</td>\n",
       "      <td>0.001259</td>\n",
       "      <td>1</td>\n",
       "    </tr>\n",
       "    <tr>\n",
       "      <th>192</th>\n",
       "      <td>squared_hinge</td>\n",
       "      <td>l2</td>\n",
       "      <td>0.830749</td>\n",
       "      <td>0.001259</td>\n",
       "      <td>1</td>\n",
       "    </tr>\n",
       "    <tr>\n",
       "      <th>...</th>\n",
       "      <td>...</td>\n",
       "      <td>...</td>\n",
       "      <td>...</td>\n",
       "      <td>...</td>\n",
       "      <td>...</td>\n",
       "    </tr>\n",
       "    <tr>\n",
       "      <th>11</th>\n",
       "      <td>huber</td>\n",
       "      <td>elasticnet</td>\n",
       "      <td>0.306629</td>\n",
       "      <td>0.260965</td>\n",
       "      <td>284</td>\n",
       "    </tr>\n",
       "    <tr>\n",
       "      <th>227</th>\n",
       "      <td>huber</td>\n",
       "      <td>elasticnet</td>\n",
       "      <td>0.304607</td>\n",
       "      <td>0.263540</td>\n",
       "      <td>285</td>\n",
       "    </tr>\n",
       "    <tr>\n",
       "      <th>9</th>\n",
       "      <td>huber</td>\n",
       "      <td>l2</td>\n",
       "      <td>0.301242</td>\n",
       "      <td>0.260166</td>\n",
       "      <td>286</td>\n",
       "    </tr>\n",
       "    <tr>\n",
       "      <th>189</th>\n",
       "      <td>huber</td>\n",
       "      <td>l2</td>\n",
       "      <td>0.300332</td>\n",
       "      <td>0.261999</td>\n",
       "      <td>287</td>\n",
       "    </tr>\n",
       "    <tr>\n",
       "      <th>83</th>\n",
       "      <td>huber</td>\n",
       "      <td>elasticnet</td>\n",
       "      <td>0.293546</td>\n",
       "      <td>0.223349</td>\n",
       "      <td>288</td>\n",
       "    </tr>\n",
       "  </tbody>\n",
       "</table>\n",
       "<p>288 rows × 5 columns</p>\n",
       "</div>"
      ],
      "text/plain": [
       "        param_loss param_penalty  mean_test_score  std_test_score  \\\n",
       "252          hinge            l2         0.830749        0.001259   \n",
       "44      perceptron    elasticnet         0.830749        0.001259   \n",
       "38           hinge    elasticnet         0.830749        0.001259   \n",
       "258     perceptron            l2         0.830749        0.001259   \n",
       "192  squared_hinge            l2         0.830749        0.001259   \n",
       "..             ...           ...              ...             ...   \n",
       "11           huber    elasticnet         0.306629        0.260965   \n",
       "227          huber    elasticnet         0.304607        0.263540   \n",
       "9            huber            l2         0.301242        0.260166   \n",
       "189          huber            l2         0.300332        0.261999   \n",
       "83           huber    elasticnet         0.293546        0.223349   \n",
       "\n",
       "     rank_test_score  \n",
       "252                1  \n",
       "44                 1  \n",
       "38                 1  \n",
       "258                1  \n",
       "192                1  \n",
       "..               ...  \n",
       "11               284  \n",
       "227              285  \n",
       "9                286  \n",
       "189              287  \n",
       "83               288  \n",
       "\n",
       "[288 rows x 5 columns]"
      ]
     },
     "execution_count": 8,
     "metadata": {},
     "output_type": "execute_result"
    }
   ],
   "source": [
    "results_sgd = grid_clf_sgd.cv_results_\n",
    "df_sgd = pd.DataFrame(results_sgd)\n",
    "\n",
    "df_sgd[[\"param_loss\", \"param_penalty\", 'mean_test_score', 'std_test_score', 'rank_test_score']].sort_values(\"rank_test_score\")"
   ]
  },
  {
   "cell_type": "code",
   "execution_count": 15,
   "metadata": {},
   "outputs": [
    {
     "data": {
      "text/plain": [
       "SGDClassifier(eta0=0.1, learning_rate='invscaling', max_iter=1500,\n",
       "              penalty='elasticnet', random_state=42)"
      ]
     },
     "execution_count": 15,
     "metadata": {},
     "output_type": "execute_result"
    }
   ],
   "source": [
    "sgd_bestModel = grid_clf_sgd.best_estimator_\n",
    "sgd_bestModel"
   ]
  },
  {
   "cell_type": "code",
   "execution_count": 17,
   "metadata": {},
   "outputs": [],
   "source": [
    "#Operando con el mejor modelo\n",
    "sgd_clf_best = make_pipeline(StandardScaler(), sgd_bestModel)"
   ]
  },
  {
   "cell_type": "code",
   "execution_count": 20,
   "metadata": {
    "nteract": {
     "transient": {
      "deleting": false
     }
    }
   },
   "outputs": [
    {
     "data": {
      "text/markdown": [
       "### Train metrics"
      ],
      "text/plain": [
       "<IPython.core.display.Markdown object>"
      ]
     },
     "metadata": {},
     "output_type": "display_data"
    },
    {
     "data": {
      "text/markdown": [
       "* Accuracy Score: 0.8260283209710048"
      ],
      "text/plain": [
       "<IPython.core.display.Markdown object>"
      ]
     },
     "metadata": {},
     "output_type": "display_data"
    },
    {
     "data": {
      "text/markdown": [
       "* Precision Score: 0.4768211920529801"
      ],
      "text/plain": [
       "<IPython.core.display.Markdown object>"
      ]
     },
     "metadata": {},
     "output_type": "display_data"
    },
    {
     "data": {
      "text/markdown": [
       "* Recall Score: 0.2868525896414343"
      ],
      "text/plain": [
       "<IPython.core.display.Markdown object>"
      ]
     },
     "metadata": {},
     "output_type": "display_data"
    },
    {
     "data": {
      "text/markdown": [
       "* F1 Score: 0.35820895522388063"
      ],
      "text/plain": [
       "<IPython.core.display.Markdown object>"
      ]
     },
     "metadata": {},
     "output_type": "display_data"
    },
    {
     "data": {
      "text/markdown": [
       "### Test metrics"
      ],
      "text/plain": [
       "<IPython.core.display.Markdown object>"
      ]
     },
     "metadata": {},
     "output_type": "display_data"
    },
    {
     "data": {
      "text/markdown": [
       "* Accuracy Score: 0.8840970350404312"
      ],
      "text/plain": [
       "<IPython.core.display.Markdown object>"
      ]
     },
     "metadata": {},
     "output_type": "display_data"
    },
    {
     "data": {
      "text/markdown": [
       "* Precision Score: 1.0"
      ],
      "text/plain": [
       "<IPython.core.display.Markdown object>"
      ]
     },
     "metadata": {},
     "output_type": "display_data"
    },
    {
     "data": {
      "text/markdown": [
       "* Recall Score: 0.25862068965517243"
      ],
      "text/plain": [
       "<IPython.core.display.Markdown object>"
      ]
     },
     "metadata": {},
     "output_type": "display_data"
    },
    {
     "data": {
      "text/markdown": [
       "* F1 Score: 0.4109589041095891"
      ],
      "text/plain": [
       "<IPython.core.display.Markdown object>"
      ]
     },
     "metadata": {},
     "output_type": "display_data"
    }
   ],
   "source": [
    "#Entreno BEST Model\n",
    "sgd_clf_best.fit(X_train, y_train)\n",
    "\n",
    "#Predict values based on best parameters\n",
    "y_pred_best = sgd_clf_best.predict(X_test)\n",
    "train_y_pred_best = clf.predict(X_train)\n",
    "\n",
    "\n",
    "display_markdown('### Train metrics')\n",
    "display_markdown(f'* Accuracy Score: {accuracy_score(y_train, train_y_pred_best)}')\n",
    "display_markdown(f'* Precision Score: {precision_score(y_train, train_y_pred_best)}')\n",
    "display_markdown(f'* Recall Score: {recall_score(y_train, train_y_pred_best)}')\n",
    "display_markdown(f'* F1 Score: {f1_score(y_train, train_y_pred_best)}')\n",
    "\n",
    "# New Model Evaluation metrics\n",
    "display_markdown('### Test metrics')\n",
    "display_markdown(f'* Accuracy Score: {accuracy_score(y_test, y_pred_best)}')\n",
    "display_markdown(f'* Precision Score: {precision_score(y_test, y_pred_best)}')\n",
    "display_markdown(f'* Recall Score: {recall_score(y_test, y_pred_best)}')\n",
    "display_markdown(f'* F1 Score: {f1_score(y_test, y_pred_best)}')"
   ]
  },
  {
   "cell_type": "markdown",
   "metadata": {},
   "source": [
    "Se puede observar que la medida F1 pasa de 0.29 en el modelo por default(`learning_rate= optimal, loss function = hinge, penalty= L2`) a 0.41 en el mejor modelo de esta grilla (`loss function = hinge, learning rate = invscaling, penalty= elasticnet`). A su vez, el accuracy score mejora desde 0.81 a 0.88."
   ]
  },
  {
   "cell_type": "markdown",
   "metadata": {
    "nteract": {
     "transient": {
      "deleting": false
     }
    }
   },
   "source": [
    "# Ejercicio 3: Árboles de Decisión\n",
    "\n",
    "En este ejercicio se entrenarán árboles de decisión para predecir la variable\n",
    "objetivo.\n",
    "\n",
    "Para ello, deberán utilizar la clase DecisionTreeClassifier de scikit-learn.\n",
    "\n",
    "Documentación:\n",
    "- https://scikit-learn.org/stable/modules/tree.html\n",
    "  - https://scikit-learn.org/stable/modules/tree.html#tips-on-practical-use\n",
    "- https://scikit-learn.org/stable/modules/generated/sklearn.tree.DecisionTreeClassifier.html\n",
    "- https://scikit-learn.org/stable/auto_examples/tree/plot_unveil_tree_structure.html\n"
   ]
  },
  {
   "cell_type": "markdown",
   "metadata": {
    "nteract": {
     "transient": {
      "deleting": false
     }
    }
   },
   "source": [
    "## Ejercicio 3.1: DecisionTreeClassifier con hiperparámetros por defecto\n",
    "\n",
    "Entrenar y evaluar el clasificador DecisionTreeClassifier usando los valores\n",
    " por omisión de scikit-learn para todos los parámetros. Únicamente\n",
    "  **fijar la semilla aleatoria** para hacer repetible el experimento.\n",
    "\n",
    "Evaluar sobre el conjunto de **entrenamiento** y sobre el conjunto de\n",
    "**evaluación**, reportando:\n",
    "\n",
    "- Accuracy\n",
    "- Precision\n",
    "- Recall\n",
    "- F1\n",
    "- matriz de confusión\n"
   ]
  },
  {
   "cell_type": "code",
   "execution_count": 23,
   "metadata": {
    "nteract": {
     "transient": {
      "deleting": false
     }
    }
   },
   "outputs": [],
   "source": [
    "from sklearn.tree import DecisionTreeClassifier\n",
    "\n",
    "clf_tree = DecisionTreeClassifier(random_state=42)\n",
    "clf_tree.fit(X_train, y_train)\n",
    "\n",
    "y_test_pred_tree = clf_tree.predict(X_test)\n",
    "y_train_pred_best = clf_tree.predict(X_train)\n"
   ]
  },
  {
   "cell_type": "code",
   "execution_count": 24,
   "metadata": {
    "nteract": {
     "transient": {
      "deleting": false
     }
    }
   },
   "outputs": [
    {
     "data": {
      "text/markdown": [
       "### Train metrics"
      ],
      "text/plain": [
       "<IPython.core.display.Markdown object>"
      ]
     },
     "metadata": {},
     "output_type": "display_data"
    },
    {
     "data": {
      "text/markdown": [
       "* Accuracy Score: 1.0"
      ],
      "text/plain": [
       "<IPython.core.display.Markdown object>"
      ]
     },
     "metadata": {},
     "output_type": "display_data"
    },
    {
     "data": {
      "text/markdown": [
       "* Precision Score: 1.0"
      ],
      "text/plain": [
       "<IPython.core.display.Markdown object>"
      ]
     },
     "metadata": {},
     "output_type": "display_data"
    },
    {
     "data": {
      "text/markdown": [
       "* Recall Score: 1.0"
      ],
      "text/plain": [
       "<IPython.core.display.Markdown object>"
      ]
     },
     "metadata": {},
     "output_type": "display_data"
    },
    {
     "data": {
      "text/markdown": [
       "* F1 Score: 1.0"
      ],
      "text/plain": [
       "<IPython.core.display.Markdown object>"
      ]
     },
     "metadata": {},
     "output_type": "display_data"
    },
    {
     "data": {
      "text/markdown": [
       "### Test metrics"
      ],
      "text/plain": [
       "<IPython.core.display.Markdown object>"
      ]
     },
     "metadata": {},
     "output_type": "display_data"
    },
    {
     "data": {
      "text/markdown": [
       "* Accuracy Score: 0.8867924528301887"
      ],
      "text/plain": [
       "<IPython.core.display.Markdown object>"
      ]
     },
     "metadata": {},
     "output_type": "display_data"
    },
    {
     "data": {
      "text/markdown": [
       "* Precision Score: 0.6428571428571429"
      ],
      "text/plain": [
       "<IPython.core.display.Markdown object>"
      ]
     },
     "metadata": {},
     "output_type": "display_data"
    },
    {
     "data": {
      "text/markdown": [
       "* Recall Score: 0.6206896551724138"
      ],
      "text/plain": [
       "<IPython.core.display.Markdown object>"
      ]
     },
     "metadata": {},
     "output_type": "display_data"
    },
    {
     "data": {
      "text/markdown": [
       "* F1 Score: 0.6315789473684211"
      ],
      "text/plain": [
       "<IPython.core.display.Markdown object>"
      ]
     },
     "metadata": {},
     "output_type": "display_data"
    }
   ],
   "source": [
    "display_markdown('### Train metrics')\n",
    "display_markdown(f'* Accuracy Score: {accuracy_score(y_train, y_train_pred_best)}')\n",
    "display_markdown(f'* Precision Score: {precision_score(y_train, y_train_pred_best)}')\n",
    "display_markdown(f'* Recall Score: {recall_score(y_train, y_train_pred_best)}')\n",
    "display_markdown(f'* F1 Score: {f1_score(y_train, y_train_pred_best)}')\n",
    "\n",
    "# New Model Evaluation metrics\n",
    "display_markdown('### Test metrics')\n",
    "display_markdown(f'* Accuracy Score: {accuracy_score(y_test, y_test_pred_tree)}')\n",
    "display_markdown(f'* Precision Score: {precision_score(y_test, y_test_pred_tree)}')\n",
    "display_markdown(f'* Recall Score: {recall_score(y_test, y_test_pred_tree)}')\n",
    "display_markdown(f'* F1 Score: {f1_score(y_test, y_test_pred_tree)}')"
   ]
  },
  {
   "cell_type": "code",
   "execution_count": 25,
   "metadata": {
    "nteract": {
     "transient": {
      "deleting": false
     }
    }
   },
   "outputs": [
    {
     "data": {
      "text/markdown": [
       "### Confusion Matrix"
      ],
      "text/plain": [
       "<IPython.core.display.Markdown object>"
      ]
     },
     "metadata": {},
     "output_type": "display_data"
    },
    {
     "data": {
      "text/markdown": [
       "* True Negative: 293"
      ],
      "text/plain": [
       "<IPython.core.display.Markdown object>"
      ]
     },
     "metadata": {},
     "output_type": "display_data"
    },
    {
     "data": {
      "text/markdown": [
       "* False Positive: 20"
      ],
      "text/plain": [
       "<IPython.core.display.Markdown object>"
      ]
     },
     "metadata": {},
     "output_type": "display_data"
    },
    {
     "data": {
      "text/markdown": [
       "* False Negative: 22"
      ],
      "text/plain": [
       "<IPython.core.display.Markdown object>"
      ]
     },
     "metadata": {},
     "output_type": "display_data"
    },
    {
     "data": {
      "text/markdown": [
       "* True Positive: 36"
      ],
      "text/plain": [
       "<IPython.core.display.Markdown object>"
      ]
     },
     "metadata": {},
     "output_type": "display_data"
    }
   ],
   "source": [
    "tn, fp, fn, tp = confusion_matrix(y_test, y_test_pred).ravel()\n",
    "\n",
    "display_markdown('### Confusion Matrix')\n",
    "display_markdown(f'* True Negative: {tn}')\n",
    "display_markdown(f'* False Positive: {fp}')\n",
    "display_markdown(f'* False Negative: {fn}')\n",
    "display_markdown(f'* True Positive: {tp}')\n"
   ]
  },
  {
   "cell_type": "code",
   "execution_count": 29,
   "metadata": {},
   "outputs": [
    {
     "data": {
      "text/markdown": [
       "* Tree depth: 22"
      ],
      "text/plain": [
       "<IPython.core.display.Markdown object>"
      ]
     },
     "metadata": {},
     "output_type": "display_data"
    }
   ],
   "source": [
    "display_markdown(f'* Tree depth: {clf_tree.get_depth()}')"
   ]
  },
  {
   "cell_type": "markdown",
   "metadata": {},
   "source": [
    "\n",
    "## Ejercicio 3.2: Ajuste de Hiperparámetros\n",
    "\n",
    "Seleccionar valores para los hiperparámetros principales del\n",
    "DecisionTreeClassifier. Como mínimo, probar diferentes criterios de\n",
    "partición (criterion), profundidad máxima del árbol (max_depth), y\n",
    "cantidad mínima de samples por hoja (min_samples_leaf).\n",
    "\n",
    "Para ello, usar grid-search y 5-fold cross-validation sobre el\n",
    "conjunto de entrenamiento para explorar muchas combinaciones\n",
    "posibles de valores.\n",
    "\n",
    "Reportar accuracy promedio y varianza para todas las configuraciones.\n",
    "\n",
    "Para la mejor configuración encontrada, evaluar sobre el conjunto\n",
    "de **entrenamiento** y sobre el conjunto de **evaluación**, reportando:\n",
    "\n",
    "- Accuracy\n",
    "- Precision\n",
    "- Recall\n",
    "- F1\n",
    "- matriz de confusión\n",
    "\n",
    "\n",
    "Documentación:\n",
    "- https://scikit-learn.org/stable/modules/grid_search.html\n",
    "- https://scikit-learn.org/stable/modules/generated/sklearn.model_selection.GridSearchCV.html\n"
   ]
  },
  {
   "cell_type": "code",
   "execution_count": 51,
   "metadata": {
    "nteract": {
     "transient": {
      "deleting": false
     }
    }
   },
   "outputs": [],
   "source": [
    "param_grid_tree = {\n",
    "    \"criterion\": ['gini', 'entropy'],\n",
    "    \"max_depth\": [1, 2, 3, 4, 5],\n",
    "    \"min_samples_split\": [2, 3, 4]\n",
    "}\n",
    "\n",
    "clf_tree = DecisionTreeClassifier(random_state=42)"
   ]
  },
  {
   "cell_type": "code",
   "execution_count": 36,
   "metadata": {},
   "outputs": [],
   "source": [
    "grid_tree = GridSearchCV(clf_tree, param_grid_tree, scoring='accuracy', cv=5)\n",
    "grid_tree.fit(X_train, y_train);"
   ]
  },
  {
   "cell_type": "code",
   "execution_count": 37,
   "metadata": {},
   "outputs": [
    {
     "data": {
      "text/html": [
       "<div>\n",
       "<style scoped>\n",
       "    .dataframe tbody tr th:only-of-type {\n",
       "        vertical-align: middle;\n",
       "    }\n",
       "\n",
       "    .dataframe tbody tr th {\n",
       "        vertical-align: top;\n",
       "    }\n",
       "\n",
       "    .dataframe thead th {\n",
       "        text-align: right;\n",
       "    }\n",
       "</style>\n",
       "<table border=\"1\" class=\"dataframe\">\n",
       "  <thead>\n",
       "    <tr style=\"text-align: right;\">\n",
       "      <th></th>\n",
       "      <th>param_criterion</th>\n",
       "      <th>param_max_depth</th>\n",
       "      <th>param_min_samples_split</th>\n",
       "      <th>mean_test_score</th>\n",
       "      <th>std_test_score</th>\n",
       "      <th>rank_test_score</th>\n",
       "    </tr>\n",
       "  </thead>\n",
       "  <tbody>\n",
       "    <tr>\n",
       "      <th>0</th>\n",
       "      <td>gini</td>\n",
       "      <td>1</td>\n",
       "      <td>2</td>\n",
       "      <td>0.869194</td>\n",
       "      <td>0.009254</td>\n",
       "      <td>22</td>\n",
       "    </tr>\n",
       "    <tr>\n",
       "      <th>1</th>\n",
       "      <td>gini</td>\n",
       "      <td>1</td>\n",
       "      <td>3</td>\n",
       "      <td>0.869194</td>\n",
       "      <td>0.009254</td>\n",
       "      <td>22</td>\n",
       "    </tr>\n",
       "    <tr>\n",
       "      <th>2</th>\n",
       "      <td>gini</td>\n",
       "      <td>1</td>\n",
       "      <td>4</td>\n",
       "      <td>0.869194</td>\n",
       "      <td>0.009254</td>\n",
       "      <td>22</td>\n",
       "    </tr>\n",
       "    <tr>\n",
       "      <th>3</th>\n",
       "      <td>gini</td>\n",
       "      <td>2</td>\n",
       "      <td>2</td>\n",
       "      <td>0.871888</td>\n",
       "      <td>0.007575</td>\n",
       "      <td>19</td>\n",
       "    </tr>\n",
       "    <tr>\n",
       "      <th>4</th>\n",
       "      <td>gini</td>\n",
       "      <td>2</td>\n",
       "      <td>3</td>\n",
       "      <td>0.871888</td>\n",
       "      <td>0.007575</td>\n",
       "      <td>19</td>\n",
       "    </tr>\n",
       "    <tr>\n",
       "      <th>5</th>\n",
       "      <td>gini</td>\n",
       "      <td>2</td>\n",
       "      <td>4</td>\n",
       "      <td>0.871888</td>\n",
       "      <td>0.007575</td>\n",
       "      <td>19</td>\n",
       "    </tr>\n",
       "    <tr>\n",
       "      <th>6</th>\n",
       "      <td>gini</td>\n",
       "      <td>3</td>\n",
       "      <td>2</td>\n",
       "      <td>0.877955</td>\n",
       "      <td>0.010041</td>\n",
       "      <td>5</td>\n",
       "    </tr>\n",
       "    <tr>\n",
       "      <th>7</th>\n",
       "      <td>gini</td>\n",
       "      <td>3</td>\n",
       "      <td>3</td>\n",
       "      <td>0.877955</td>\n",
       "      <td>0.010041</td>\n",
       "      <td>5</td>\n",
       "    </tr>\n",
       "    <tr>\n",
       "      <th>8</th>\n",
       "      <td>gini</td>\n",
       "      <td>3</td>\n",
       "      <td>4</td>\n",
       "      <td>0.877955</td>\n",
       "      <td>0.010041</td>\n",
       "      <td>5</td>\n",
       "    </tr>\n",
       "    <tr>\n",
       "      <th>9</th>\n",
       "      <td>gini</td>\n",
       "      <td>4</td>\n",
       "      <td>2</td>\n",
       "      <td>0.877955</td>\n",
       "      <td>0.015399</td>\n",
       "      <td>3</td>\n",
       "    </tr>\n",
       "    <tr>\n",
       "      <th>10</th>\n",
       "      <td>gini</td>\n",
       "      <td>4</td>\n",
       "      <td>3</td>\n",
       "      <td>0.877955</td>\n",
       "      <td>0.015399</td>\n",
       "      <td>3</td>\n",
       "    </tr>\n",
       "    <tr>\n",
       "      <th>11</th>\n",
       "      <td>gini</td>\n",
       "      <td>4</td>\n",
       "      <td>4</td>\n",
       "      <td>0.877282</td>\n",
       "      <td>0.015568</td>\n",
       "      <td>9</td>\n",
       "    </tr>\n",
       "    <tr>\n",
       "      <th>12</th>\n",
       "      <td>gini</td>\n",
       "      <td>5</td>\n",
       "      <td>2</td>\n",
       "      <td>0.875933</td>\n",
       "      <td>0.013350</td>\n",
       "      <td>10</td>\n",
       "    </tr>\n",
       "    <tr>\n",
       "      <th>13</th>\n",
       "      <td>gini</td>\n",
       "      <td>5</td>\n",
       "      <td>3</td>\n",
       "      <td>0.874584</td>\n",
       "      <td>0.014342</td>\n",
       "      <td>12</td>\n",
       "    </tr>\n",
       "    <tr>\n",
       "      <th>14</th>\n",
       "      <td>gini</td>\n",
       "      <td>5</td>\n",
       "      <td>4</td>\n",
       "      <td>0.875257</td>\n",
       "      <td>0.013965</td>\n",
       "      <td>11</td>\n",
       "    </tr>\n",
       "    <tr>\n",
       "      <th>15</th>\n",
       "      <td>entropy</td>\n",
       "      <td>1</td>\n",
       "      <td>2</td>\n",
       "      <td>0.869194</td>\n",
       "      <td>0.009254</td>\n",
       "      <td>22</td>\n",
       "    </tr>\n",
       "    <tr>\n",
       "      <th>16</th>\n",
       "      <td>entropy</td>\n",
       "      <td>1</td>\n",
       "      <td>3</td>\n",
       "      <td>0.869194</td>\n",
       "      <td>0.009254</td>\n",
       "      <td>22</td>\n",
       "    </tr>\n",
       "    <tr>\n",
       "      <th>17</th>\n",
       "      <td>entropy</td>\n",
       "      <td>1</td>\n",
       "      <td>4</td>\n",
       "      <td>0.869194</td>\n",
       "      <td>0.009254</td>\n",
       "      <td>22</td>\n",
       "    </tr>\n",
       "    <tr>\n",
       "      <th>18</th>\n",
       "      <td>entropy</td>\n",
       "      <td>2</td>\n",
       "      <td>2</td>\n",
       "      <td>0.868519</td>\n",
       "      <td>0.008119</td>\n",
       "      <td>28</td>\n",
       "    </tr>\n",
       "    <tr>\n",
       "      <th>19</th>\n",
       "      <td>entropy</td>\n",
       "      <td>2</td>\n",
       "      <td>3</td>\n",
       "      <td>0.868519</td>\n",
       "      <td>0.008119</td>\n",
       "      <td>28</td>\n",
       "    </tr>\n",
       "    <tr>\n",
       "      <th>20</th>\n",
       "      <td>entropy</td>\n",
       "      <td>2</td>\n",
       "      <td>4</td>\n",
       "      <td>0.868519</td>\n",
       "      <td>0.008119</td>\n",
       "      <td>28</td>\n",
       "    </tr>\n",
       "    <tr>\n",
       "      <th>21</th>\n",
       "      <td>entropy</td>\n",
       "      <td>3</td>\n",
       "      <td>2</td>\n",
       "      <td>0.873239</td>\n",
       "      <td>0.013509</td>\n",
       "      <td>16</td>\n",
       "    </tr>\n",
       "    <tr>\n",
       "      <th>22</th>\n",
       "      <td>entropy</td>\n",
       "      <td>3</td>\n",
       "      <td>3</td>\n",
       "      <td>0.873239</td>\n",
       "      <td>0.013509</td>\n",
       "      <td>16</td>\n",
       "    </tr>\n",
       "    <tr>\n",
       "      <th>23</th>\n",
       "      <td>entropy</td>\n",
       "      <td>3</td>\n",
       "      <td>4</td>\n",
       "      <td>0.873239</td>\n",
       "      <td>0.013509</td>\n",
       "      <td>16</td>\n",
       "    </tr>\n",
       "    <tr>\n",
       "      <th>24</th>\n",
       "      <td>entropy</td>\n",
       "      <td>4</td>\n",
       "      <td>2</td>\n",
       "      <td>0.873239</td>\n",
       "      <td>0.013152</td>\n",
       "      <td>13</td>\n",
       "    </tr>\n",
       "    <tr>\n",
       "      <th>25</th>\n",
       "      <td>entropy</td>\n",
       "      <td>4</td>\n",
       "      <td>3</td>\n",
       "      <td>0.873239</td>\n",
       "      <td>0.013152</td>\n",
       "      <td>13</td>\n",
       "    </tr>\n",
       "    <tr>\n",
       "      <th>26</th>\n",
       "      <td>entropy</td>\n",
       "      <td>4</td>\n",
       "      <td>4</td>\n",
       "      <td>0.873239</td>\n",
       "      <td>0.013152</td>\n",
       "      <td>13</td>\n",
       "    </tr>\n",
       "    <tr>\n",
       "      <th>27</th>\n",
       "      <td>entropy</td>\n",
       "      <td>5</td>\n",
       "      <td>2</td>\n",
       "      <td>0.877958</td>\n",
       "      <td>0.007071</td>\n",
       "      <td>1</td>\n",
       "    </tr>\n",
       "    <tr>\n",
       "      <th>28</th>\n",
       "      <td>entropy</td>\n",
       "      <td>5</td>\n",
       "      <td>3</td>\n",
       "      <td>0.877958</td>\n",
       "      <td>0.007071</td>\n",
       "      <td>1</td>\n",
       "    </tr>\n",
       "    <tr>\n",
       "      <th>29</th>\n",
       "      <td>entropy</td>\n",
       "      <td>5</td>\n",
       "      <td>4</td>\n",
       "      <td>0.877284</td>\n",
       "      <td>0.008019</td>\n",
       "      <td>8</td>\n",
       "    </tr>\n",
       "  </tbody>\n",
       "</table>\n",
       "</div>"
      ],
      "text/plain": [
       "   param_criterion param_max_depth param_min_samples_split  mean_test_score  \\\n",
       "0             gini               1                       2         0.869194   \n",
       "1             gini               1                       3         0.869194   \n",
       "2             gini               1                       4         0.869194   \n",
       "3             gini               2                       2         0.871888   \n",
       "4             gini               2                       3         0.871888   \n",
       "5             gini               2                       4         0.871888   \n",
       "6             gini               3                       2         0.877955   \n",
       "7             gini               3                       3         0.877955   \n",
       "8             gini               3                       4         0.877955   \n",
       "9             gini               4                       2         0.877955   \n",
       "10            gini               4                       3         0.877955   \n",
       "11            gini               4                       4         0.877282   \n",
       "12            gini               5                       2         0.875933   \n",
       "13            gini               5                       3         0.874584   \n",
       "14            gini               5                       4         0.875257   \n",
       "15         entropy               1                       2         0.869194   \n",
       "16         entropy               1                       3         0.869194   \n",
       "17         entropy               1                       4         0.869194   \n",
       "18         entropy               2                       2         0.868519   \n",
       "19         entropy               2                       3         0.868519   \n",
       "20         entropy               2                       4         0.868519   \n",
       "21         entropy               3                       2         0.873239   \n",
       "22         entropy               3                       3         0.873239   \n",
       "23         entropy               3                       4         0.873239   \n",
       "24         entropy               4                       2         0.873239   \n",
       "25         entropy               4                       3         0.873239   \n",
       "26         entropy               4                       4         0.873239   \n",
       "27         entropy               5                       2         0.877958   \n",
       "28         entropy               5                       3         0.877958   \n",
       "29         entropy               5                       4         0.877284   \n",
       "\n",
       "    std_test_score  rank_test_score  \n",
       "0         0.009254               22  \n",
       "1         0.009254               22  \n",
       "2         0.009254               22  \n",
       "3         0.007575               19  \n",
       "4         0.007575               19  \n",
       "5         0.007575               19  \n",
       "6         0.010041                5  \n",
       "7         0.010041                5  \n",
       "8         0.010041                5  \n",
       "9         0.015399                3  \n",
       "10        0.015399                3  \n",
       "11        0.015568                9  \n",
       "12        0.013350               10  \n",
       "13        0.014342               12  \n",
       "14        0.013965               11  \n",
       "15        0.009254               22  \n",
       "16        0.009254               22  \n",
       "17        0.009254               22  \n",
       "18        0.008119               28  \n",
       "19        0.008119               28  \n",
       "20        0.008119               28  \n",
       "21        0.013509               16  \n",
       "22        0.013509               16  \n",
       "23        0.013509               16  \n",
       "24        0.013152               13  \n",
       "25        0.013152               13  \n",
       "26        0.013152               13  \n",
       "27        0.007071                1  \n",
       "28        0.007071                1  \n",
       "29        0.008019                8  "
      ]
     },
     "execution_count": 37,
     "metadata": {},
     "output_type": "execute_result"
    }
   ],
   "source": [
    "results = grid_tree.cv_results_\n",
    "\n",
    "df = pd.DataFrame(results)\n",
    "df[['param_criterion', 'param_max_depth', \"param_min_samples_split\", 'mean_test_score', 'std_test_score', 'rank_test_score']]"
   ]
  },
  {
   "cell_type": "code",
   "execution_count": 38,
   "metadata": {},
   "outputs": [],
   "source": [
    "tree_best_model = grid_tree.best_estimator_"
   ]
  },
  {
   "cell_type": "code",
   "execution_count": 40,
   "metadata": {},
   "outputs": [
    {
     "data": {
      "image/png": "[encoded data removed]",
      "text/plain": [
       "<Figure size 720x720 with 1 Axes>"
      ]
     },
     "metadata": {
      "needs_background": "light"
     },
     "output_type": "display_data"
    }
   ],
   "source": [
    "from sklearn.tree import plot_tree\n",
    "import matplotlib.pyplot as plt\n",
    "\n",
    "plt.figure(figsize= (10, 10))\n",
    "plot_tree(tree_best_model);"
   ]
  },
  {
   "cell_type": "code",
   "execution_count": 41,
   "metadata": {},
   "outputs": [
    {
     "data": {
      "text/plain": [
       "DecisionTreeClassifier(criterion='entropy', max_depth=5, random_state=42)"
      ]
     },
     "execution_count": 41,
     "metadata": {},
     "output_type": "execute_result"
    }
   ],
   "source": [
    "tree_best_model"
   ]
  },
  {
   "cell_type": "code",
   "execution_count": 45,
   "metadata": {},
   "outputs": [],
   "source": [
    "bestTree_y_pred_test = tree_best_model.predict(X_test)\n",
    "bestTree_y_pred_train = tree_best_model.predict(X_train)"
   ]
  },
  {
   "cell_type": "code",
   "execution_count": 47,
   "metadata": {},
   "outputs": [
    {
     "data": {
      "text/markdown": [
       "### Train metrics"
      ],
      "text/plain": [
       "<IPython.core.display.Markdown object>"
      ]
     },
     "metadata": {},
     "output_type": "display_data"
    },
    {
     "data": {
      "text/markdown": [
       "* Accuracy Score: 0.899527983816588"
      ],
      "text/plain": [
       "<IPython.core.display.Markdown object>"
      ]
     },
     "metadata": {},
     "output_type": "display_data"
    },
    {
     "data": {
      "text/markdown": [
       "* Precision Score: 0.9047619047619048"
      ],
      "text/plain": [
       "<IPython.core.display.Markdown object>"
      ]
     },
     "metadata": {},
     "output_type": "display_data"
    },
    {
     "data": {
      "text/markdown": [
       "* Recall Score: 0.4541832669322709"
      ],
      "text/plain": [
       "<IPython.core.display.Markdown object>"
      ]
     },
     "metadata": {},
     "output_type": "display_data"
    },
    {
     "data": {
      "text/markdown": [
       "* F1 Score: 0.6047745358090186"
      ],
      "text/plain": [
       "<IPython.core.display.Markdown object>"
      ]
     },
     "metadata": {},
     "output_type": "display_data"
    },
    {
     "data": {
      "text/markdown": [
       "### Test metrics"
      ],
      "text/plain": [
       "<IPython.core.display.Markdown object>"
      ]
     },
     "metadata": {},
     "output_type": "display_data"
    },
    {
     "data": {
      "text/markdown": [
       "* Accuracy Score: 0.889487870619946"
      ],
      "text/plain": [
       "<IPython.core.display.Markdown object>"
      ]
     },
     "metadata": {},
     "output_type": "display_data"
    },
    {
     "data": {
      "text/markdown": [
       "* Precision Score: 0.7931034482758621"
      ],
      "text/plain": [
       "<IPython.core.display.Markdown object>"
      ]
     },
     "metadata": {},
     "output_type": "display_data"
    },
    {
     "data": {
      "text/markdown": [
       "* Recall Score: 0.39655172413793105"
      ],
      "text/plain": [
       "<IPython.core.display.Markdown object>"
      ]
     },
     "metadata": {},
     "output_type": "display_data"
    },
    {
     "data": {
      "text/markdown": [
       "* F1 Score: 0.5287356321839081"
      ],
      "text/plain": [
       "<IPython.core.display.Markdown object>"
      ]
     },
     "metadata": {},
     "output_type": "display_data"
    }
   ],
   "source": [
    "display_markdown('### Train metrics')\n",
    "display_markdown(f'* Accuracy Score: {accuracy_score(y_train, bestTree_y_pred_train)}')\n",
    "display_markdown(f'* Precision Score: {precision_score(y_train, bestTree_y_pred_train)}')\n",
    "display_markdown(f'* Recall Score: {recall_score(y_train, bestTree_y_pred_train)}')\n",
    "display_markdown(f'* F1 Score: {f1_score(y_train, bestTree_y_pred_train)}')\n",
    "\n",
    "display_markdown('### Test metrics')\n",
    "display_markdown(f'* Accuracy Score: {accuracy_score(y_test, bestTree_y_pred_test)}')\n",
    "display_markdown(f'* Precision Score: {precision_score(y_test, bestTree_y_pred_test)}')\n",
    "display_markdown(f'* Recall Score: {recall_score(y_test, bestTree_y_pred_test)}')\n",
    "display_markdown(f'* F1 Score: {f1_score(y_test, bestTree_y_pred_test)}')"
   ]
  },
  {
   "cell_type": "code",
   "execution_count": 48,
   "metadata": {},
   "outputs": [
    {
     "data": {
      "text/markdown": [
       "### Confusion Matrix"
      ],
      "text/plain": [
       "<IPython.core.display.Markdown object>"
      ]
     },
     "metadata": {},
     "output_type": "display_data"
    },
    {
     "data": {
      "text/markdown": [
       "* True Negative: 307"
      ],
      "text/plain": [
       "<IPython.core.display.Markdown object>"
      ]
     },
     "metadata": {},
     "output_type": "display_data"
    },
    {
     "data": {
      "text/markdown": [
       "* False Positive: 6"
      ],
      "text/plain": [
       "<IPython.core.display.Markdown object>"
      ]
     },
     "metadata": {},
     "output_type": "display_data"
    },
    {
     "data": {
      "text/markdown": [
       "* False Negative: 35"
      ],
      "text/plain": [
       "<IPython.core.display.Markdown object>"
      ]
     },
     "metadata": {},
     "output_type": "display_data"
    },
    {
     "data": {
      "text/markdown": [
       "* True Positive: 23"
      ],
      "text/plain": [
       "<IPython.core.display.Markdown object>"
      ]
     },
     "metadata": {},
     "output_type": "display_data"
    }
   ],
   "source": [
    "tn, fp, fn, tp = confusion_matrix(y_test, bestTree_y_pred_test).ravel()\n",
    "\n",
    "display_markdown('### Confusion Matrix')\n",
    "display_markdown(f'* True Negative: {tn}')\n",
    "display_markdown(f'* False Positive: {fp}')\n",
    "display_markdown(f'* False Negative: {fn}')\n",
    "display_markdown(f'* True Positive: {tp}')"
   ]
  },
  {
   "cell_type": "markdown",
   "metadata": {},
   "source": [
    "Como conslusión puede decirse que, fijando __5__ como máxima profundidad y utilizando entropía como criterio de decisión, el accuracy score (`0.8894`) supera el del modelo por default (`0.8867`) el cual tiene una profundidad de __22__ y utiliza el índice Gini como criterio de decisión. Por otro lado, se observa una reducción de F1 score de alrededor de 10 puntos porcentuales."
   ]
  },
  {
   "cell_type": "code",
   "execution_count": null,
   "metadata": {},
   "outputs": [],
   "source": []
  }
 ],
 "metadata": {
  "kernelspec": {
   "display_name": "Python 3",
   "language": "python",
   "name": "python3"
  },
  "language_info": {
   "codemirror_mode": {
    "name": "ipython",
    "version": 3
   },
   "file_extension": ".py",
   "mimetype": "text/x-python",
   "name": "python",
   "nbconvert_exporter": "python",
   "pygments_lexer": "ipython3",
   "version": "3.6.10"
  }
 },
 "nbformat": 4,
 "nbformat_minor": 4
}
