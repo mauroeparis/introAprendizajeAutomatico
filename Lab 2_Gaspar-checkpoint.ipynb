{
 "cells": [
  {
   "cell_type": "markdown",
   "metadata": {},
   "source": [
    "# Laboratorio 2: Armado de un esquema de aprendizaje automático\n",
    "\n",
    "En el laboratorio final se espera que puedan poner en práctica los conocimientos adquiridos en el curso, trabajando con un conjunto de datos de clasificación.\n",
    "\n",
    "El objetivo es que se introduzcan en el desarrollo de un esquema para hacer tareas de aprendizaje automático: selección de un modelo, ajuste de hiperparámetros y evaluación.\n",
    "\n",
    "El conjunto de datos a utilizar está en `./data/loan_data.csv`. Si abren el archivo verán que al principio (las líneas que empiezan con `#`) describen el conjunto de datos y sus atributos (incluyendo el atributo de etiqueta o clase).\n",
    "\n",
    "Se espera que hagan uso de las herramientas vistas en el curso. Se espera que hagan uso especialmente de las herramientas brindadas por `scikit-learn`."
   ]
  },
  {
   "cell_type": "code",
   "execution_count": 1,
   "metadata": {},
   "outputs": [],
   "source": [
    "import numpy as np\n",
    "import pandas as pd\n",
    "\n",
    "# TODO: Agregar las librerías que hagan falta\n",
    "from sklearn.model_selection import train_test_split"
   ]
  },
  {
   "cell_type": "markdown",
   "metadata": {},
   "source": [
    "## Carga de datos y división en entrenamiento y evaluación\n",
    "\n",
    "La celda siguiente se encarga de la carga de datos (haciendo uso de pandas). Estos serán los que se trabajarán en el resto del laboratorio."
   ]
  },
  {
   "cell_type": "code",
   "execution_count": 2,
   "metadata": {},
   "outputs": [],
   "source": [
    "dataset = pd.read_csv(\"./data/loan_data.csv\", comment=\"#\")\n",
    "\n",
    "# División entre instancias y etiquetas\n",
    "X, y = dataset.iloc[:, 1:], dataset.TARGET\n",
    "\n",
    "# división entre entrenamiento y evaluación\n",
    "X_train, X_test, y_train, y_test = train_test_split(X, y, test_size=0.2, random_state=0)"
   ]
  },
  {
   "cell_type": "code",
   "execution_count": 3,
   "metadata": {},
   "outputs": [
    {
     "data": {
      "text/html": [
       "<div>\n",
       "<style scoped>\n",
       "    .dataframe tbody tr th:only-of-type {\n",
       "        vertical-align: middle;\n",
       "    }\n",
       "\n",
       "    .dataframe tbody tr th {\n",
       "        vertical-align: top;\n",
       "    }\n",
       "\n",
       "    .dataframe thead th {\n",
       "        text-align: right;\n",
       "    }\n",
       "</style>\n",
       "<table border=\"1\" class=\"dataframe\">\n",
       "  <thead>\n",
       "    <tr style=\"text-align: right;\">\n",
       "      <th></th>\n",
       "      <th>TARGET</th>\n",
       "      <th>LOAN</th>\n",
       "      <th>MORTDUE</th>\n",
       "      <th>VALUE</th>\n",
       "      <th>YOJ</th>\n",
       "      <th>DEROG</th>\n",
       "      <th>DELINQ</th>\n",
       "      <th>CLAGE</th>\n",
       "      <th>NINQ</th>\n",
       "      <th>CLNO</th>\n",
       "      <th>DEBTINC</th>\n",
       "    </tr>\n",
       "  </thead>\n",
       "  <tbody>\n",
       "    <tr>\n",
       "      <th>0</th>\n",
       "      <td>0</td>\n",
       "      <td>4700</td>\n",
       "      <td>88026.0</td>\n",
       "      <td>115506.0</td>\n",
       "      <td>6.0</td>\n",
       "      <td>0.0</td>\n",
       "      <td>0.0</td>\n",
       "      <td>182.248332</td>\n",
       "      <td>0.0</td>\n",
       "      <td>27.0</td>\n",
       "      <td>29.209023</td>\n",
       "    </tr>\n",
       "    <tr>\n",
       "      <th>1</th>\n",
       "      <td>0</td>\n",
       "      <td>19300</td>\n",
       "      <td>39926.0</td>\n",
       "      <td>101208.0</td>\n",
       "      <td>4.0</td>\n",
       "      <td>0.0</td>\n",
       "      <td>0.0</td>\n",
       "      <td>140.051638</td>\n",
       "      <td>0.0</td>\n",
       "      <td>14.0</td>\n",
       "      <td>31.545694</td>\n",
       "    </tr>\n",
       "    <tr>\n",
       "      <th>2</th>\n",
       "      <td>0</td>\n",
       "      <td>5700</td>\n",
       "      <td>71556.0</td>\n",
       "      <td>79538.0</td>\n",
       "      <td>2.0</td>\n",
       "      <td>0.0</td>\n",
       "      <td>0.0</td>\n",
       "      <td>92.643085</td>\n",
       "      <td>0.0</td>\n",
       "      <td>15.0</td>\n",
       "      <td>41.210012</td>\n",
       "    </tr>\n",
       "    <tr>\n",
       "      <th>3</th>\n",
       "      <td>0</td>\n",
       "      <td>13000</td>\n",
       "      <td>44875.0</td>\n",
       "      <td>57713.0</td>\n",
       "      <td>0.0</td>\n",
       "      <td>1.0</td>\n",
       "      <td>0.0</td>\n",
       "      <td>184.990324</td>\n",
       "      <td>1.0</td>\n",
       "      <td>12.0</td>\n",
       "      <td>28.602076</td>\n",
       "    </tr>\n",
       "    <tr>\n",
       "      <th>4</th>\n",
       "      <td>0</td>\n",
       "      <td>19300</td>\n",
       "      <td>72752.0</td>\n",
       "      <td>106084.0</td>\n",
       "      <td>11.0</td>\n",
       "      <td>0.0</td>\n",
       "      <td>0.0</td>\n",
       "      <td>193.707100</td>\n",
       "      <td>1.0</td>\n",
       "      <td>13.0</td>\n",
       "      <td>30.686106</td>\n",
       "    </tr>\n",
       "    <tr>\n",
       "      <th>...</th>\n",
       "      <td>...</td>\n",
       "      <td>...</td>\n",
       "      <td>...</td>\n",
       "      <td>...</td>\n",
       "      <td>...</td>\n",
       "      <td>...</td>\n",
       "      <td>...</td>\n",
       "      <td>...</td>\n",
       "      <td>...</td>\n",
       "      <td>...</td>\n",
       "      <td>...</td>\n",
       "    </tr>\n",
       "    <tr>\n",
       "      <th>1849</th>\n",
       "      <td>1</td>\n",
       "      <td>53400</td>\n",
       "      <td>228236.0</td>\n",
       "      <td>305514.0</td>\n",
       "      <td>6.0</td>\n",
       "      <td>0.0</td>\n",
       "      <td>0.0</td>\n",
       "      <td>11.148069</td>\n",
       "      <td>0.0</td>\n",
       "      <td>2.0</td>\n",
       "      <td>34.558417</td>\n",
       "    </tr>\n",
       "    <tr>\n",
       "      <th>1850</th>\n",
       "      <td>1</td>\n",
       "      <td>53600</td>\n",
       "      <td>235895.0</td>\n",
       "      <td>299772.0</td>\n",
       "      <td>5.0</td>\n",
       "      <td>0.0</td>\n",
       "      <td>0.0</td>\n",
       "      <td>112.748282</td>\n",
       "      <td>7.0</td>\n",
       "      <td>22.0</td>\n",
       "      <td>44.945929</td>\n",
       "    </tr>\n",
       "    <tr>\n",
       "      <th>1851</th>\n",
       "      <td>1</td>\n",
       "      <td>53600</td>\n",
       "      <td>208197.0</td>\n",
       "      <td>297280.0</td>\n",
       "      <td>4.0</td>\n",
       "      <td>1.0</td>\n",
       "      <td>1.0</td>\n",
       "      <td>160.485251</td>\n",
       "      <td>2.0</td>\n",
       "      <td>29.0</td>\n",
       "      <td>41.646731</td>\n",
       "    </tr>\n",
       "    <tr>\n",
       "      <th>1852</th>\n",
       "      <td>1</td>\n",
       "      <td>65500</td>\n",
       "      <td>205156.0</td>\n",
       "      <td>290239.0</td>\n",
       "      <td>2.0</td>\n",
       "      <td>0.0</td>\n",
       "      <td>0.0</td>\n",
       "      <td>98.808206</td>\n",
       "      <td>1.0</td>\n",
       "      <td>21.0</td>\n",
       "      <td>144.189001</td>\n",
       "    </tr>\n",
       "    <tr>\n",
       "      <th>1853</th>\n",
       "      <td>1</td>\n",
       "      <td>77400</td>\n",
       "      <td>87651.0</td>\n",
       "      <td>224630.0</td>\n",
       "      <td>9.0</td>\n",
       "      <td>0.0</td>\n",
       "      <td>2.0</td>\n",
       "      <td>73.469630</td>\n",
       "      <td>3.0</td>\n",
       "      <td>13.0</td>\n",
       "      <td>40.929793</td>\n",
       "    </tr>\n",
       "  </tbody>\n",
       "</table>\n",
       "<p>1854 rows × 11 columns</p>\n",
       "</div>"
      ],
      "text/plain": [
       "      TARGET   LOAN   MORTDUE     VALUE   YOJ  DEROG  DELINQ       CLAGE  \\\n",
       "0          0   4700   88026.0  115506.0   6.0    0.0     0.0  182.248332   \n",
       "1          0  19300   39926.0  101208.0   4.0    0.0     0.0  140.051638   \n",
       "2          0   5700   71556.0   79538.0   2.0    0.0     0.0   92.643085   \n",
       "3          0  13000   44875.0   57713.0   0.0    1.0     0.0  184.990324   \n",
       "4          0  19300   72752.0  106084.0  11.0    0.0     0.0  193.707100   \n",
       "...      ...    ...       ...       ...   ...    ...     ...         ...   \n",
       "1849       1  53400  228236.0  305514.0   6.0    0.0     0.0   11.148069   \n",
       "1850       1  53600  235895.0  299772.0   5.0    0.0     0.0  112.748282   \n",
       "1851       1  53600  208197.0  297280.0   4.0    1.0     1.0  160.485251   \n",
       "1852       1  65500  205156.0  290239.0   2.0    0.0     0.0   98.808206   \n",
       "1853       1  77400   87651.0  224630.0   9.0    0.0     2.0   73.469630   \n",
       "\n",
       "      NINQ  CLNO     DEBTINC  \n",
       "0      0.0  27.0   29.209023  \n",
       "1      0.0  14.0   31.545694  \n",
       "2      0.0  15.0   41.210012  \n",
       "3      1.0  12.0   28.602076  \n",
       "4      1.0  13.0   30.686106  \n",
       "...    ...   ...         ...  \n",
       "1849   0.0   2.0   34.558417  \n",
       "1850   7.0  22.0   44.945929  \n",
       "1851   2.0  29.0   41.646731  \n",
       "1852   1.0  21.0  144.189001  \n",
       "1853   3.0  13.0   40.929793  \n",
       "\n",
       "[1854 rows x 11 columns]"
      ]
     },
     "execution_count": 3,
     "metadata": {},
     "output_type": "execute_result"
    }
   ],
   "source": [
    "dataset"
   ]
  },
  {
   "cell_type": "markdown",
   "metadata": {},
   "source": [
    "\n",
    "Documentación:\n",
    "\n",
    "- https://scikit-learn.org/stable/modules/generated/sklearn.model_selection.train_test_split.html"
   ]
  },
  {
   "cell_type": "markdown",
   "metadata": {},
   "source": [
    "## Ejercicio 1: Descripción de los Datos y la Tarea\n",
    "\n",
    "Responder las siguientes preguntas:\n",
    "\n",
    "1. ¿De qué se trata el conjunto de datos?\n",
    "2. ¿Cuál es la variable objetivo que hay que predecir? ¿Qué significado tiene?\n",
    "3. ¿Qué información (atributos) hay disponible para hacer la predicción?\n",
    "4. ¿Qué atributos imagina ud. que son los más determinantes para la predicción?\n",
    "\n",
    "**No hace falta escribir código para responder estas preguntas.**"
   ]
  },
  {
   "cell_type": "markdown",
   "metadata": {},
   "source": [
    "1. El dataset contiene información del desarrollo de 5960 prestamos inmobiliarios.\n",
    "\n",
    "2. La variable objetivo es BAD y es una variable binaria que determina si el aplicante al prestamo no pudo seguir pagandolo o tuvo serios retrasos al momento de hacerlo.\n",
    "\n",
    "3. Tenemos los siguientes atributos para hacer la predicción:\n",
    "\n",
    "- TARGET (BAD): Si el cliente no pudo pagar el prestamo. (1 o 0)\n",
    "- LOAN: Tamaño del prestamo\n",
    "- MORTDUE: Cuanto debe en la hipoteca actual\n",
    "- VALUE: Valor de la propiedad actual\n",
    "- YOJ: Años que lleva en el trabajo actual\n",
    "- DEROG: Número de informes despectivos (negativos?)\n",
    "- DELINQ: Número de líneas de crédito morosas\n",
    "- CLAGE: Cantidad de meses desde la última transacción\n",
    "- NINQ: Número de lineas de crédito recientes\n",
    "- CLNO: Número de lineas de crédito\n",
    "- DEBTINC: El ratio de deuda a salario\n",
    "4. Imagino que DELINQ, DEBTINC y LOAN deben ser los que más afecten al resultado.\n",
    "\n"
   ]
  },
  {
   "cell_type": "markdown",
   "metadata": {},
   "source": [
    "## Ejercicio 2: Predicción con Modelos Lineales\n",
    "\n",
    "En este ejercicio se entrenarán modelos lineales de clasificación para predecir la variable objetivo.\n",
    "\n",
    "Para ello, deberán utilizar la clase SGDClassifier de scikit-learn.\n",
    "\n",
    "Documentación:\n",
    "- https://scikit-learn.org/stable/modules/sgd.html\n",
    "- https://scikit-learn.org/stable/modules/generated/sklearn.linear_model.SGDClassifier.html\n"
   ]
  },
  {
   "cell_type": "markdown",
   "metadata": {},
   "source": [
    "### Ejercicio 2.1: SGDClassifier con hiperparámetros por defecto\n",
    "\n",
    "Entrenar y evaluar el clasificador SGDClassifier usando los valores por omisión de scikit-learn para todos los parámetros. Únicamente **fijar la semilla aleatoria** para hacer repetible el experimento.\n",
    "\n",
    "Evaluar sobre el conjunto de **entrenamiento** y sobre el conjunto de **evaluación**, reportando:\n",
    "- Accuracy\n",
    "- Precision\n",
    "- Recall\n",
    "- F1\n",
    "- matriz de confusión"
   ]
  },
  {
   "cell_type": "code",
   "execution_count": 4,
   "metadata": {},
   "outputs": [],
   "source": [
    "import numpy as np\n",
    "from sklearn.linear_model import SGDClassifier\n",
    "from sklearn.preprocessing import StandardScaler\n",
    "from sklearn.pipeline import make_pipeline\n",
    "\n",
    "clf = make_pipeline(StandardScaler(), SGDClassifier(random_state=42)\n",
    ")\n",
    "\n",
    "clf.fit(X_train, y_train)\n",
    "\n",
    "y_pred = clf.predict(X_test)"
   ]
  },
  {
   "cell_type": "code",
   "execution_count": 5,
   "metadata": {},
   "outputs": [],
   "source": [
    "from sklearn.metrics import (\n",
    "    accuracy_score,\n",
    "    recall_score,\n",
    "    precision_score,\n",
    "    f1_score,\n",
    ")"
   ]
  },
  {
   "cell_type": "markdown",
   "metadata": {},
   "source": [
    "- La métrica __accuracy__ representa el ratio entre predicciones correctas y total de predicciones (o tamaño del conjunto de entrenamiento). Esta medida funciona bien si existe una cantidad relativamente equivalente de entradas pertenecientes a cada clase, en caso contrario no será confiable o representativo. Esto puede verse por ejemplo en un caso donde el 98% de las entradas del conjunto de entrenamiento son negativas (en contraposición a positivas). En tal situación un modelo que realice todas predicciones negativas tendrá un accuracy de 98%. Si se tratara de un diagnóstico médico, confiar en un modelo que predice de esta forma sería un grave error en tanto existirán dos falsos negativos cuya salud podrá verse comprometida."
   ]
  },
  {
   "cell_type": "markdown",
   "metadata": {},
   "source": [
    "- Por un lado, __Recall__ o _True Positive Rate_ se define como la proporción entre verdaderos positivos (predicciones positivas correctas) y el total de positivos en la muestra (Verdaderos Positivos + Falsos Negativos). Por otro lado __Precision__ se define como la proporción entre verdaderos positivos y el total de predicciones postivas (verdaderos positivos + Falsos Positivos).\n",
    "En general, existe un trade-off entre Recall y Precision. Si todas las predicciones son positivas tendré una tasa de Recall de 100%. Sin embargo, esto afectaría la precision en tanto incrementaría la cantidad de falsos positivos."
   ]
  },
  {
   "cell_type": "markdown",
   "metadata": {},
   "source": [
    "- La medida __F1__ es la media harmónica entre _Recall_ y _Precision_. Se basa en la idea del trade-off entre estas métricas anteriormente mencionado. Mientras más cerca de 1 se encuentre F1 mejor será el desempeño del modelo."
   ]
  },
  {
   "cell_type": "code",
   "execution_count": 6,
   "metadata": {},
   "outputs": [
    {
     "name": "stdout",
     "output_type": "stream",
     "text": [
      "Accuracy Score : 0.8194070080862533\n",
      "Precision Score : 0.3783783783783784\n",
      "Recall Score : 0.2413793103448276\n",
      "F1 Score : 0.29473684210526313\n"
     ]
    }
   ],
   "source": [
    "print('Accuracy Score : ' + str(accuracy_score(y_test, y_pred)))\n",
    "print('Precision Score : ' + str(precision_score(y_test, y_pred)))\n",
    "print('Recall Score : ' + str(recall_score(y_test, y_pred)))\n",
    "print('F1 Score : ' + str(f1_score(y_test, y_pred)))"
   ]
  },
  {
   "cell_type": "code",
   "execution_count": 7,
   "metadata": {},
   "outputs": [
    {
     "name": "stdout",
     "output_type": "stream",
     "text": [
      "True Negative: 290\n",
      "False Positive: 23\n",
      "False Negative: 44\n",
      "True Positive: 14\n"
     ]
    }
   ],
   "source": [
    "from sklearn.metrics import confusion_matrix\n",
    "\n",
    "tn, fp, fn, tp = confusion_matrix(y_test, y_pred).ravel()\n",
    "\n",
    "print('True Negative: ' + str(tn))\n",
    "print('False Positive: ' + str(fp))\n",
    "print('False Negative: ' + str(fn))\n",
    "print('True Positive: ' + str(tp))"
   ]
  },
  {
   "cell_type": "markdown",
   "metadata": {},
   "source": [
    "### Ejercicio 2.2: Ajuste de Hiperparámetros\n",
    "\n",
    "Seleccionar valores para los hiperparámetros principales del SGDClassifier. Como mínimo, probar diferentes funciones de loss, tasas de entrenamiento y tasas de regularización.\n",
    "\n",
    "Para ello, usar grid-search y 5-fold cross-validation sobre el conjunto de entrenamiento para explorar muchas combinaciones posibles de valores.\n",
    "\n",
    "Reportar accuracy promedio y varianza para todas las configuraciones.\n",
    "\n",
    "Para la mejor configuración encontrada, evaluar sobre el conjunto de **entrenamiento** y sobre el conjunto de **evaluación**, reportando:\n",
    "- Accuracy\n",
    "- Precision\n",
    "- Recall\n",
    "- F1\n",
    "- matriz de confusión\n",
    "\n",
    "Documentación:\n",
    "- https://scikit-learn.org/stable/modules/grid_search.html\n",
    "- https://scikit-learn.org/stable/modules/generated/sklearn.model_selection.GridSearchCV.html"
   ]
  },
  {
   "cell_type": "code",
   "execution_count": 8,
   "metadata": {},
   "outputs": [
    {
     "name": "stderr",
     "output_type": "stream",
     "text": [
      "C:\\Users\\Juanca\\anaconda3\\envs\\diplodatos-ayvd\\lib\\site-packages\\sklearn\\linear_model\\_stochastic_gradient.py:557: ConvergenceWarning: Maximum number of iteration reached before convergence. Consider increasing max_iter to improve the fit.\n",
      "  ConvergenceWarning)\n",
      "C:\\Users\\Juanca\\anaconda3\\envs\\diplodatos-ayvd\\lib\\site-packages\\sklearn\\linear_model\\_stochastic_gradient.py:557: ConvergenceWarning: Maximum number of iteration reached before convergence. Consider increasing max_iter to improve the fit.\n",
      "  ConvergenceWarning)\n",
      "C:\\Users\\Juanca\\anaconda3\\envs\\diplodatos-ayvd\\lib\\site-packages\\sklearn\\linear_model\\_stochastic_gradient.py:557: ConvergenceWarning: Maximum number of iteration reached before convergence. Consider increasing max_iter to improve the fit.\n",
      "  ConvergenceWarning)\n",
      "C:\\Users\\Juanca\\anaconda3\\envs\\diplodatos-ayvd\\lib\\site-packages\\sklearn\\linear_model\\_stochastic_gradient.py:557: ConvergenceWarning: Maximum number of iteration reached before convergence. Consider increasing max_iter to improve the fit.\n",
      "  ConvergenceWarning)\n",
      "C:\\Users\\Juanca\\anaconda3\\envs\\diplodatos-ayvd\\lib\\site-packages\\sklearn\\linear_model\\_stochastic_gradient.py:557: ConvergenceWarning: Maximum number of iteration reached before convergence. Consider increasing max_iter to improve the fit.\n",
      "  ConvergenceWarning)\n",
      "C:\\Users\\Juanca\\anaconda3\\envs\\diplodatos-ayvd\\lib\\site-packages\\sklearn\\linear_model\\_stochastic_gradient.py:557: ConvergenceWarning: Maximum number of iteration reached before convergence. Consider increasing max_iter to improve the fit.\n",
      "  ConvergenceWarning)\n",
      "C:\\Users\\Juanca\\anaconda3\\envs\\diplodatos-ayvd\\lib\\site-packages\\sklearn\\linear_model\\_stochastic_gradient.py:557: ConvergenceWarning: Maximum number of iteration reached before convergence. Consider increasing max_iter to improve the fit.\n",
      "  ConvergenceWarning)\n",
      "C:\\Users\\Juanca\\anaconda3\\envs\\diplodatos-ayvd\\lib\\site-packages\\sklearn\\linear_model\\_stochastic_gradient.py:557: ConvergenceWarning: Maximum number of iteration reached before convergence. Consider increasing max_iter to improve the fit.\n",
      "  ConvergenceWarning)\n",
      "C:\\Users\\Juanca\\anaconda3\\envs\\diplodatos-ayvd\\lib\\site-packages\\sklearn\\linear_model\\_stochastic_gradient.py:557: ConvergenceWarning: Maximum number of iteration reached before convergence. Consider increasing max_iter to improve the fit.\n",
      "  ConvergenceWarning)\n",
      "C:\\Users\\Juanca\\anaconda3\\envs\\diplodatos-ayvd\\lib\\site-packages\\sklearn\\linear_model\\_stochastic_gradient.py:557: ConvergenceWarning: Maximum number of iteration reached before convergence. Consider increasing max_iter to improve the fit.\n",
      "  ConvergenceWarning)\n",
      "C:\\Users\\Juanca\\anaconda3\\envs\\diplodatos-ayvd\\lib\\site-packages\\sklearn\\linear_model\\_stochastic_gradient.py:557: ConvergenceWarning: Maximum number of iteration reached before convergence. Consider increasing max_iter to improve the fit.\n",
      "  ConvergenceWarning)\n",
      "C:\\Users\\Juanca\\anaconda3\\envs\\diplodatos-ayvd\\lib\\site-packages\\sklearn\\linear_model\\_stochastic_gradient.py:557: ConvergenceWarning: Maximum number of iteration reached before convergence. Consider increasing max_iter to improve the fit.\n",
      "  ConvergenceWarning)\n"
     ]
    },
    {
     "data": {
      "text/plain": [
       "GridSearchCV(cv=5, error_score=nan,\n",
       "             estimator=SGDClassifier(alpha=0.0001, average=False,\n",
       "                                     class_weight=None, early_stopping=False,\n",
       "                                     epsilon=0.1, eta0=0.0, fit_intercept=True,\n",
       "                                     l1_ratio=0.15, learning_rate='optimal',\n",
       "                                     loss='hinge', max_iter=1000,\n",
       "                                     n_iter_no_change=5, n_jobs=None,\n",
       "                                     penalty='l2', power_t=0.5, random_state=42,\n",
       "                                     shuffle=True, tol=0.001,\n",
       "                                     validation_fraction=0.1, ve...0,\n",
       "                                     warm_start=False),\n",
       "             iid='deprecated', n_jobs=None,\n",
       "             param_grid={'eta0': [0.1, 0.25, 0.5, 1],\n",
       "                         'learning_rate': ['constant', 'optimal', 'invscaling',\n",
       "                                           'adaptive'],\n",
       "                         'loss': ['hinge', 'log', 'perceptron', 'huber',\n",
       "                                  'squared_hinge', 'modified_huber'],\n",
       "                         'penalty': ['l2', 'l1', 'elasticnet']},\n",
       "             pre_dispatch='2*n_jobs', refit=True, return_train_score=False,\n",
       "             scoring='accuracy', verbose=0)"
      ]
     },
     "execution_count": 8,
     "metadata": {},
     "output_type": "execute_result"
    }
   ],
   "source": [
    "from sklearn.model_selection import GridSearchCV\n",
    "\n",
    "#Modelo\n",
    "model_grid_sgd = SGDClassifier(random_state=42)\n",
    "\n",
    "#Grilla de Parámetros\n",
    "\n",
    "grid_values = {'loss': [\"hinge\", \"log\", \"perceptron\", \"huber\", \"squared_hinge\", \"modified_huber\"], \n",
    "               \"penalty\" : [\"l2\", \"l1\", \"elasticnet\"], \n",
    "               \"learning_rate\" : [\"constant\",\"optimal\",\"invscaling\",\"adaptive\"],\n",
    "    'eta0' : [0.1,0.25,0.5,1]\n",
    "              }\n",
    "\n",
    "grid_clf_sgd = GridSearchCV(\n",
    "    model_grid_sgd, scoring= \"accuracy\",\n",
    "    param_grid = grid_values, cv= 5)\n",
    "\n",
    "grid_clf_sgd.fit(X_train, y_train)\n"
   ]
  },
  {
   "cell_type": "code",
   "execution_count": 9,
   "metadata": {},
   "outputs": [],
   "source": [
    "results_sgd=  grid_clf_sgd.cv_results_\n",
    "df_sgd = pd.DataFrame(results_sgd)"
   ]
  },
  {
   "cell_type": "code",
   "execution_count": 28,
   "metadata": {},
   "outputs": [
    {
     "data": {
      "text/html": [
       "<div>\n",
       "<style scoped>\n",
       "    .dataframe tbody tr th:only-of-type {\n",
       "        vertical-align: middle;\n",
       "    }\n",
       "\n",
       "    .dataframe tbody tr th {\n",
       "        vertical-align: top;\n",
       "    }\n",
       "\n",
       "    .dataframe thead th {\n",
       "        text-align: right;\n",
       "    }\n",
       "</style>\n",
       "<table border=\"1\" class=\"dataframe\">\n",
       "  <thead>\n",
       "    <tr style=\"text-align: right;\">\n",
       "      <th></th>\n",
       "      <th>param_loss</th>\n",
       "      <th>param_penalty</th>\n",
       "      <th>mean_test_score</th>\n",
       "      <th>std_test_score</th>\n",
       "      <th>rank_test_score</th>\n",
       "    </tr>\n",
       "  </thead>\n",
       "  <tbody>\n",
       "    <tr>\n",
       "      <th>44</th>\n",
       "      <td>perceptron</td>\n",
       "      <td>elasticnet</td>\n",
       "      <td>0.830749</td>\n",
       "      <td>0.001259</td>\n",
       "      <td>1</td>\n",
       "    </tr>\n",
       "    <tr>\n",
       "      <th>252</th>\n",
       "      <td>hinge</td>\n",
       "      <td>l2</td>\n",
       "      <td>0.830749</td>\n",
       "      <td>0.001259</td>\n",
       "      <td>1</td>\n",
       "    </tr>\n",
       "    <tr>\n",
       "      <th>258</th>\n",
       "      <td>perceptron</td>\n",
       "      <td>l2</td>\n",
       "      <td>0.830749</td>\n",
       "      <td>0.001259</td>\n",
       "      <td>1</td>\n",
       "    </tr>\n",
       "    <tr>\n",
       "      <th>38</th>\n",
       "      <td>hinge</td>\n",
       "      <td>elasticnet</td>\n",
       "      <td>0.830749</td>\n",
       "      <td>0.001259</td>\n",
       "      <td>1</td>\n",
       "    </tr>\n",
       "    <tr>\n",
       "      <th>192</th>\n",
       "      <td>squared_hinge</td>\n",
       "      <td>l2</td>\n",
       "      <td>0.830749</td>\n",
       "      <td>0.001259</td>\n",
       "      <td>1</td>\n",
       "    </tr>\n",
       "    <tr>\n",
       "      <th>...</th>\n",
       "      <td>...</td>\n",
       "      <td>...</td>\n",
       "      <td>...</td>\n",
       "      <td>...</td>\n",
       "      <td>...</td>\n",
       "    </tr>\n",
       "    <tr>\n",
       "      <th>11</th>\n",
       "      <td>huber</td>\n",
       "      <td>elasticnet</td>\n",
       "      <td>0.306629</td>\n",
       "      <td>0.260965</td>\n",
       "      <td>284</td>\n",
       "    </tr>\n",
       "    <tr>\n",
       "      <th>227</th>\n",
       "      <td>huber</td>\n",
       "      <td>elasticnet</td>\n",
       "      <td>0.304607</td>\n",
       "      <td>0.263540</td>\n",
       "      <td>285</td>\n",
       "    </tr>\n",
       "    <tr>\n",
       "      <th>9</th>\n",
       "      <td>huber</td>\n",
       "      <td>l2</td>\n",
       "      <td>0.301242</td>\n",
       "      <td>0.260166</td>\n",
       "      <td>286</td>\n",
       "    </tr>\n",
       "    <tr>\n",
       "      <th>189</th>\n",
       "      <td>huber</td>\n",
       "      <td>l2</td>\n",
       "      <td>0.300332</td>\n",
       "      <td>0.261999</td>\n",
       "      <td>287</td>\n",
       "    </tr>\n",
       "    <tr>\n",
       "      <th>83</th>\n",
       "      <td>huber</td>\n",
       "      <td>elasticnet</td>\n",
       "      <td>0.293546</td>\n",
       "      <td>0.223349</td>\n",
       "      <td>288</td>\n",
       "    </tr>\n",
       "  </tbody>\n",
       "</table>\n",
       "<p>288 rows × 5 columns</p>\n",
       "</div>"
      ],
      "text/plain": [
       "        param_loss param_penalty  mean_test_score  std_test_score  \\\n",
       "44      perceptron    elasticnet         0.830749        0.001259   \n",
       "252          hinge            l2         0.830749        0.001259   \n",
       "258     perceptron            l2         0.830749        0.001259   \n",
       "38           hinge    elasticnet         0.830749        0.001259   \n",
       "192  squared_hinge            l2         0.830749        0.001259   \n",
       "..             ...           ...              ...             ...   \n",
       "11           huber    elasticnet         0.306629        0.260965   \n",
       "227          huber    elasticnet         0.304607        0.263540   \n",
       "9            huber            l2         0.301242        0.260166   \n",
       "189          huber            l2         0.300332        0.261999   \n",
       "83           huber    elasticnet         0.293546        0.223349   \n",
       "\n",
       "     rank_test_score  \n",
       "44                 1  \n",
       "252                1  \n",
       "258                1  \n",
       "38                 1  \n",
       "192                1  \n",
       "..               ...  \n",
       "11               284  \n",
       "227              285  \n",
       "9                286  \n",
       "189              287  \n",
       "83               288  \n",
       "\n",
       "[288 rows x 5 columns]"
      ]
     },
     "execution_count": 28,
     "metadata": {},
     "output_type": "execute_result"
    }
   ],
   "source": [
    "df_sgd[[\"param_loss\", \"param_penalty\", 'mean_test_score', 'std_test_score', 'rank_test_score']].sort_values(\"rank_test_score\")"
   ]
  },
  {
   "cell_type": "code",
   "execution_count": 11,
   "metadata": {},
   "outputs": [
    {
     "data": {
      "text/plain": [
       "SGDClassifier(alpha=0.0001, average=False, class_weight=None,\n",
       "              early_stopping=False, epsilon=0.1, eta0=0.1, fit_intercept=True,\n",
       "              l1_ratio=0.15, learning_rate='invscaling', loss='hinge',\n",
       "              max_iter=1000, n_iter_no_change=5, n_jobs=None,\n",
       "              penalty='elasticnet', power_t=0.5, random_state=42, shuffle=True,\n",
       "              tol=0.001, validation_fraction=0.1, verbose=0, warm_start=False)"
      ]
     },
     "execution_count": 11,
     "metadata": {},
     "output_type": "execute_result"
    }
   ],
   "source": [
    "sgd_bestModel = grid_clf_sgd.best_estimator_\n",
    "sgd_bestModel"
   ]
  },
  {
   "cell_type": "code",
   "execution_count": 12,
   "metadata": {},
   "outputs": [],
   "source": [
    "#Operando con el mejor modelo\n",
    "sgd_clf_best = make_pipeline(StandardScaler(), sgd_bestModel)\n"
   ]
  },
  {
   "cell_type": "code",
   "execution_count": 13,
   "metadata": {},
   "outputs": [
    {
     "name": "stdout",
     "output_type": "stream",
     "text": [
      "Accuracy Score : 0.8840970350404312\n",
      "Precision Score : 1.0\n",
      "Recall Score : 0.25862068965517243\n",
      "F1 Score : 0.4109589041095891\n"
     ]
    }
   ],
   "source": [
    "#Entreno BEST Model\n",
    "sgd_clf_best.fit(X_train, y_train)\n",
    "\n",
    "#Predict values based on best parameters\n",
    "y_pred_best = sgd_clf_best.predict(X_test)\n",
    "\n",
    "# BEST Model Evaluation metrics\n",
    "print('Accuracy Score : ' + str(accuracy_score(y_test,y_pred_best)))\n",
    "print('Precision Score : ' + str(precision_score(y_test,y_pred_best)))\n",
    "print('Recall Score : ' + str(recall_score(y_test,y_pred_best)))\n",
    "print('F1 Score : ' + str(f1_score(y_test,y_pred_best)))"
   ]
  },
  {
   "cell_type": "code",
   "execution_count": 14,
   "metadata": {},
   "outputs": [
    {
     "name": "stdout",
     "output_type": "stream",
     "text": [
      "True Negative: 313\n",
      "False Positive: 0\n",
      "False Negative: 43\n",
      "True Positive: 15\n"
     ]
    }
   ],
   "source": [
    "tn, fp, fn, tp = confusion_matrix(y_test, y_pred_best).ravel()\n",
    "\n",
    "print('True Negative: ' + str(tn))\n",
    "print('False Positive: ' + str(fp))\n",
    "print('False Negative: ' + str(fn))\n",
    "print('True Positive: ' + str(tp))"
   ]
  },
  {
   "cell_type": "markdown",
   "metadata": {},
   "source": [
    "- Se puede observar que la medida F1 pasa de 0.29 en el modelo por default a 0.41 en el mejor modelo de esta grilla."
   ]
  },
  {
   "cell_type": "markdown",
   "metadata": {},
   "source": [
    "## Ejercicio 3: Árboles de Decisión\n",
    "\n",
    "En este ejercicio se entrenarán árboles de decisión para predecir la variable objetivo.\n",
    "\n",
    "Para ello, deberán utilizar la clase DecisionTreeClassifier de scikit-learn.\n",
    "\n",
    "Documentación:\n",
    "- https://scikit-learn.org/stable/modules/tree.html\n",
    "  - https://scikit-learn.org/stable/modules/tree.html#tips-on-practical-use\n",
    "- https://scikit-learn.org/stable/modules/generated/sklearn.tree.DecisionTreeClassifier.html\n",
    "- https://scikit-learn.org/stable/auto_examples/tree/plot_unveil_tree_structure.html"
   ]
  },
  {
   "cell_type": "markdown",
   "metadata": {},
   "source": [
    "### Ejercicio 3.1: DecisionTreeClassifier con hiperparámetros por defecto\n",
    "\n",
    "Entrenar y evaluar el clasificador DecisionTreeClassifier usando los valores por omisión de scikit-learn para todos los parámetros. Únicamente **fijar la semilla aleatoria** para hacer repetible el experimento.\n",
    "\n",
    "Evaluar sobre el conjunto de **entrenamiento** y sobre el conjunto de **evaluación**, reportando:\n",
    "- Accuracy\n",
    "- Precision\n",
    "- Recall\n",
    "- F1\n",
    "- matriz de confusión\n"
   ]
  },
  {
   "cell_type": "code",
   "execution_count": 15,
   "metadata": {},
   "outputs": [],
   "source": [
    "from sklearn.tree import DecisionTreeClassifier\n",
    "\n",
    "clf_tree = DecisionTreeClassifier(random_state=42)\n",
    "clf_tree.fit(X_train, y_train)\n",
    "\n",
    "y_test_pred_tree = clf_tree.predict(X_test)"
   ]
  },
  {
   "cell_type": "code",
   "execution_count": 29,
   "metadata": {},
   "outputs": [
    {
     "data": {
      "text/plain": [
       "DecisionTreeClassifier(ccp_alpha=0.0, class_weight=None, criterion='gini',\n",
       "                       max_depth=None, max_features=None, max_leaf_nodes=None,\n",
       "                       min_impurity_decrease=0.0, min_impurity_split=None,\n",
       "                       min_samples_leaf=1, min_samples_split=2,\n",
       "                       min_weight_fraction_leaf=0.0, presort='deprecated',\n",
       "                       random_state=42, splitter='best')"
      ]
     },
     "execution_count": 29,
     "metadata": {},
     "output_type": "execute_result"
    }
   ],
   "source": [
    "clf_tree"
   ]
  },
  {
   "cell_type": "code",
   "execution_count": 16,
   "metadata": {},
   "outputs": [
    {
     "name": "stdout",
     "output_type": "stream",
     "text": [
      "Accuracy Score : 0.8867924528301887\n",
      "Precision Score : 0.6428571428571429\n",
      "Recall Score : 0.6206896551724138\n",
      "F1 Score : 0.6315789473684211\n"
     ]
    }
   ],
   "source": [
    "print('Accuracy Score : ' + str(accuracy_score(y_test, y_test_pred_tree)))\n",
    "print('Precision Score : ' + str(precision_score(y_test, y_test_pred_tree)))\n",
    "print('Recall Score : ' + str(recall_score(y_test, y_test_pred_tree)))\n",
    "print('F1 Score : ' + str(f1_score(y_test, y_test_pred_tree)))"
   ]
  },
  {
   "cell_type": "code",
   "execution_count": 17,
   "metadata": {},
   "outputs": [
    {
     "name": "stdout",
     "output_type": "stream",
     "text": [
      "True Negative: 293\n",
      "False Positive: 20\n",
      "False Negative: 22\n",
      "True Positive: 36\n"
     ]
    }
   ],
   "source": [
    "tn, fp, fn, tp = confusion_matrix(y_test, y_test_pred_tree).ravel()\n",
    "\n",
    "print('True Negative: ' + str(tn))\n",
    "print('False Positive: ' + str(fp))\n",
    "print('False Negative: ' + str(fn))\n",
    "print('True Positive: ' + str(tp))"
   ]
  },
  {
   "cell_type": "code",
   "execution_count": 56,
   "metadata": {},
   "outputs": [
    {
     "name": "stdout",
     "output_type": "stream",
     "text": [
      "22\n"
     ]
    }
   ],
   "source": [
    "print(clf_tree.get_depth())"
   ]
  },
  {
   "cell_type": "markdown",
   "metadata": {},
   "source": [
    "- En modelo por default, el parametro _max_depth_= None. En este caso, la profundidad del arbol (máxima distancia entre la raíz del arbol y cualquier hoja) es de 22."
   ]
  },
  {
   "cell_type": "markdown",
   "metadata": {},
   "source": [
    "### Ejercicio 3.2: Ajuste de Hiperparámetros\n",
    "\n",
    "Seleccionar valores para los hiperparámetros principales del DecisionTreeClassifier. Como mínimo, probar diferentes criterios de partición (criterion), profundidad máxima del árbol (max_depth), y cantidad mínima de samples por hoja (min_samples_leaf).\n",
    "\n",
    "Para ello, usar grid-search y 5-fold cross-validation sobre el conjunto de entrenamiento para explorar muchas combinaciones posibles de valores.\n",
    "\n",
    "Reportar accuracy promedio y varianza para todas las configuraciones.\n",
    "\n",
    "Para la mejor configuración encontrada, evaluar sobre el conjunto de **entrenamiento** y sobre el conjunto de **evaluación**, reportando:\n",
    "- Accuracy\n",
    "- Precision\n",
    "- Recall\n",
    "- F1\n",
    "- matriz de confusión\n",
    "\n",
    "\n",
    "Documentación:\n",
    "- https://scikit-learn.org/stable/modules/grid_search.html\n",
    "- https://scikit-learn.org/stable/modules/generated/sklearn.model_selection.GridSearchCV.html"
   ]
  },
  {
   "cell_type": "code",
   "execution_count": 70,
   "metadata": {},
   "outputs": [],
   "source": [
    "param_grid_tree = {\n",
    "    'criterion': ['gini', 'entropy'],\n",
    "    'max_depth': [1, 2, 3, 4, 5], \"min_samples_split\": [2, 3, 4]\n",
    "}\n",
    "#clf_tree = DecisionTreeClassifier(random_state=42)"
   ]
  },
  {
   "cell_type": "code",
   "execution_count": 71,
   "metadata": {},
   "outputs": [],
   "source": [
    "grid_tree = GridSearchCV(clf_tree, param_grid_tree, scoring='accuracy', cv=5)\n",
    "grid_tree.fit(X_train, y_train);"
   ]
  },
  {
   "cell_type": "code",
   "execution_count": 72,
   "metadata": {},
   "outputs": [
    {
     "data": {
      "text/html": [
       "<div>\n",
       "<style scoped>\n",
       "    .dataframe tbody tr th:only-of-type {\n",
       "        vertical-align: middle;\n",
       "    }\n",
       "\n",
       "    .dataframe tbody tr th {\n",
       "        vertical-align: top;\n",
       "    }\n",
       "\n",
       "    .dataframe thead th {\n",
       "        text-align: right;\n",
       "    }\n",
       "</style>\n",
       "<table border=\"1\" class=\"dataframe\">\n",
       "  <thead>\n",
       "    <tr style=\"text-align: right;\">\n",
       "      <th></th>\n",
       "      <th>param_criterion</th>\n",
       "      <th>param_max_depth</th>\n",
       "      <th>param_min_samples_split</th>\n",
       "      <th>mean_test_score</th>\n",
       "      <th>std_test_score</th>\n",
       "      <th>rank_test_score</th>\n",
       "    </tr>\n",
       "  </thead>\n",
       "  <tbody>\n",
       "    <tr>\n",
       "      <th>0</th>\n",
       "      <td>gini</td>\n",
       "      <td>1</td>\n",
       "      <td>2</td>\n",
       "      <td>0.869194</td>\n",
       "      <td>0.009254</td>\n",
       "      <td>22</td>\n",
       "    </tr>\n",
       "    <tr>\n",
       "      <th>1</th>\n",
       "      <td>gini</td>\n",
       "      <td>1</td>\n",
       "      <td>3</td>\n",
       "      <td>0.869194</td>\n",
       "      <td>0.009254</td>\n",
       "      <td>22</td>\n",
       "    </tr>\n",
       "    <tr>\n",
       "      <th>2</th>\n",
       "      <td>gini</td>\n",
       "      <td>1</td>\n",
       "      <td>4</td>\n",
       "      <td>0.869194</td>\n",
       "      <td>0.009254</td>\n",
       "      <td>22</td>\n",
       "    </tr>\n",
       "    <tr>\n",
       "      <th>3</th>\n",
       "      <td>gini</td>\n",
       "      <td>2</td>\n",
       "      <td>2</td>\n",
       "      <td>0.871888</td>\n",
       "      <td>0.007575</td>\n",
       "      <td>19</td>\n",
       "    </tr>\n",
       "    <tr>\n",
       "      <th>4</th>\n",
       "      <td>gini</td>\n",
       "      <td>2</td>\n",
       "      <td>3</td>\n",
       "      <td>0.871888</td>\n",
       "      <td>0.007575</td>\n",
       "      <td>19</td>\n",
       "    </tr>\n",
       "    <tr>\n",
       "      <th>5</th>\n",
       "      <td>gini</td>\n",
       "      <td>2</td>\n",
       "      <td>4</td>\n",
       "      <td>0.871888</td>\n",
       "      <td>0.007575</td>\n",
       "      <td>19</td>\n",
       "    </tr>\n",
       "    <tr>\n",
       "      <th>6</th>\n",
       "      <td>gini</td>\n",
       "      <td>3</td>\n",
       "      <td>2</td>\n",
       "      <td>0.877955</td>\n",
       "      <td>0.010041</td>\n",
       "      <td>5</td>\n",
       "    </tr>\n",
       "    <tr>\n",
       "      <th>7</th>\n",
       "      <td>gini</td>\n",
       "      <td>3</td>\n",
       "      <td>3</td>\n",
       "      <td>0.877955</td>\n",
       "      <td>0.010041</td>\n",
       "      <td>5</td>\n",
       "    </tr>\n",
       "    <tr>\n",
       "      <th>8</th>\n",
       "      <td>gini</td>\n",
       "      <td>3</td>\n",
       "      <td>4</td>\n",
       "      <td>0.877955</td>\n",
       "      <td>0.010041</td>\n",
       "      <td>5</td>\n",
       "    </tr>\n",
       "    <tr>\n",
       "      <th>9</th>\n",
       "      <td>gini</td>\n",
       "      <td>4</td>\n",
       "      <td>2</td>\n",
       "      <td>0.877955</td>\n",
       "      <td>0.015399</td>\n",
       "      <td>3</td>\n",
       "    </tr>\n",
       "    <tr>\n",
       "      <th>10</th>\n",
       "      <td>gini</td>\n",
       "      <td>4</td>\n",
       "      <td>3</td>\n",
       "      <td>0.877955</td>\n",
       "      <td>0.015399</td>\n",
       "      <td>3</td>\n",
       "    </tr>\n",
       "    <tr>\n",
       "      <th>11</th>\n",
       "      <td>gini</td>\n",
       "      <td>4</td>\n",
       "      <td>4</td>\n",
       "      <td>0.877282</td>\n",
       "      <td>0.015568</td>\n",
       "      <td>9</td>\n",
       "    </tr>\n",
       "    <tr>\n",
       "      <th>12</th>\n",
       "      <td>gini</td>\n",
       "      <td>5</td>\n",
       "      <td>2</td>\n",
       "      <td>0.875933</td>\n",
       "      <td>0.013350</td>\n",
       "      <td>10</td>\n",
       "    </tr>\n",
       "    <tr>\n",
       "      <th>13</th>\n",
       "      <td>gini</td>\n",
       "      <td>5</td>\n",
       "      <td>3</td>\n",
       "      <td>0.874584</td>\n",
       "      <td>0.014342</td>\n",
       "      <td>12</td>\n",
       "    </tr>\n",
       "    <tr>\n",
       "      <th>14</th>\n",
       "      <td>gini</td>\n",
       "      <td>5</td>\n",
       "      <td>4</td>\n",
       "      <td>0.875257</td>\n",
       "      <td>0.013965</td>\n",
       "      <td>11</td>\n",
       "    </tr>\n",
       "    <tr>\n",
       "      <th>15</th>\n",
       "      <td>entropy</td>\n",
       "      <td>1</td>\n",
       "      <td>2</td>\n",
       "      <td>0.869194</td>\n",
       "      <td>0.009254</td>\n",
       "      <td>22</td>\n",
       "    </tr>\n",
       "    <tr>\n",
       "      <th>16</th>\n",
       "      <td>entropy</td>\n",
       "      <td>1</td>\n",
       "      <td>3</td>\n",
       "      <td>0.869194</td>\n",
       "      <td>0.009254</td>\n",
       "      <td>22</td>\n",
       "    </tr>\n",
       "    <tr>\n",
       "      <th>17</th>\n",
       "      <td>entropy</td>\n",
       "      <td>1</td>\n",
       "      <td>4</td>\n",
       "      <td>0.869194</td>\n",
       "      <td>0.009254</td>\n",
       "      <td>22</td>\n",
       "    </tr>\n",
       "    <tr>\n",
       "      <th>18</th>\n",
       "      <td>entropy</td>\n",
       "      <td>2</td>\n",
       "      <td>2</td>\n",
       "      <td>0.868519</td>\n",
       "      <td>0.008119</td>\n",
       "      <td>28</td>\n",
       "    </tr>\n",
       "    <tr>\n",
       "      <th>19</th>\n",
       "      <td>entropy</td>\n",
       "      <td>2</td>\n",
       "      <td>3</td>\n",
       "      <td>0.868519</td>\n",
       "      <td>0.008119</td>\n",
       "      <td>28</td>\n",
       "    </tr>\n",
       "    <tr>\n",
       "      <th>20</th>\n",
       "      <td>entropy</td>\n",
       "      <td>2</td>\n",
       "      <td>4</td>\n",
       "      <td>0.868519</td>\n",
       "      <td>0.008119</td>\n",
       "      <td>28</td>\n",
       "    </tr>\n",
       "    <tr>\n",
       "      <th>21</th>\n",
       "      <td>entropy</td>\n",
       "      <td>3</td>\n",
       "      <td>2</td>\n",
       "      <td>0.873239</td>\n",
       "      <td>0.013509</td>\n",
       "      <td>16</td>\n",
       "    </tr>\n",
       "    <tr>\n",
       "      <th>22</th>\n",
       "      <td>entropy</td>\n",
       "      <td>3</td>\n",
       "      <td>3</td>\n",
       "      <td>0.873239</td>\n",
       "      <td>0.013509</td>\n",
       "      <td>16</td>\n",
       "    </tr>\n",
       "    <tr>\n",
       "      <th>23</th>\n",
       "      <td>entropy</td>\n",
       "      <td>3</td>\n",
       "      <td>4</td>\n",
       "      <td>0.873239</td>\n",
       "      <td>0.013509</td>\n",
       "      <td>16</td>\n",
       "    </tr>\n",
       "    <tr>\n",
       "      <th>24</th>\n",
       "      <td>entropy</td>\n",
       "      <td>4</td>\n",
       "      <td>2</td>\n",
       "      <td>0.873239</td>\n",
       "      <td>0.013152</td>\n",
       "      <td>13</td>\n",
       "    </tr>\n",
       "    <tr>\n",
       "      <th>25</th>\n",
       "      <td>entropy</td>\n",
       "      <td>4</td>\n",
       "      <td>3</td>\n",
       "      <td>0.873239</td>\n",
       "      <td>0.013152</td>\n",
       "      <td>13</td>\n",
       "    </tr>\n",
       "    <tr>\n",
       "      <th>26</th>\n",
       "      <td>entropy</td>\n",
       "      <td>4</td>\n",
       "      <td>4</td>\n",
       "      <td>0.873239</td>\n",
       "      <td>0.013152</td>\n",
       "      <td>13</td>\n",
       "    </tr>\n",
       "    <tr>\n",
       "      <th>27</th>\n",
       "      <td>entropy</td>\n",
       "      <td>5</td>\n",
       "      <td>2</td>\n",
       "      <td>0.877958</td>\n",
       "      <td>0.007071</td>\n",
       "      <td>1</td>\n",
       "    </tr>\n",
       "    <tr>\n",
       "      <th>28</th>\n",
       "      <td>entropy</td>\n",
       "      <td>5</td>\n",
       "      <td>3</td>\n",
       "      <td>0.877958</td>\n",
       "      <td>0.007071</td>\n",
       "      <td>1</td>\n",
       "    </tr>\n",
       "    <tr>\n",
       "      <th>29</th>\n",
       "      <td>entropy</td>\n",
       "      <td>5</td>\n",
       "      <td>4</td>\n",
       "      <td>0.877284</td>\n",
       "      <td>0.008019</td>\n",
       "      <td>8</td>\n",
       "    </tr>\n",
       "  </tbody>\n",
       "</table>\n",
       "</div>"
      ],
      "text/plain": [
       "   param_criterion param_max_depth param_min_samples_split  mean_test_score  \\\n",
       "0             gini               1                       2         0.869194   \n",
       "1             gini               1                       3         0.869194   \n",
       "2             gini               1                       4         0.869194   \n",
       "3             gini               2                       2         0.871888   \n",
       "4             gini               2                       3         0.871888   \n",
       "5             gini               2                       4         0.871888   \n",
       "6             gini               3                       2         0.877955   \n",
       "7             gini               3                       3         0.877955   \n",
       "8             gini               3                       4         0.877955   \n",
       "9             gini               4                       2         0.877955   \n",
       "10            gini               4                       3         0.877955   \n",
       "11            gini               4                       4         0.877282   \n",
       "12            gini               5                       2         0.875933   \n",
       "13            gini               5                       3         0.874584   \n",
       "14            gini               5                       4         0.875257   \n",
       "15         entropy               1                       2         0.869194   \n",
       "16         entropy               1                       3         0.869194   \n",
       "17         entropy               1                       4         0.869194   \n",
       "18         entropy               2                       2         0.868519   \n",
       "19         entropy               2                       3         0.868519   \n",
       "20         entropy               2                       4         0.868519   \n",
       "21         entropy               3                       2         0.873239   \n",
       "22         entropy               3                       3         0.873239   \n",
       "23         entropy               3                       4         0.873239   \n",
       "24         entropy               4                       2         0.873239   \n",
       "25         entropy               4                       3         0.873239   \n",
       "26         entropy               4                       4         0.873239   \n",
       "27         entropy               5                       2         0.877958   \n",
       "28         entropy               5                       3         0.877958   \n",
       "29         entropy               5                       4         0.877284   \n",
       "\n",
       "    std_test_score  rank_test_score  \n",
       "0         0.009254               22  \n",
       "1         0.009254               22  \n",
       "2         0.009254               22  \n",
       "3         0.007575               19  \n",
       "4         0.007575               19  \n",
       "5         0.007575               19  \n",
       "6         0.010041                5  \n",
       "7         0.010041                5  \n",
       "8         0.010041                5  \n",
       "9         0.015399                3  \n",
       "10        0.015399                3  \n",
       "11        0.015568                9  \n",
       "12        0.013350               10  \n",
       "13        0.014342               12  \n",
       "14        0.013965               11  \n",
       "15        0.009254               22  \n",
       "16        0.009254               22  \n",
       "17        0.009254               22  \n",
       "18        0.008119               28  \n",
       "19        0.008119               28  \n",
       "20        0.008119               28  \n",
       "21        0.013509               16  \n",
       "22        0.013509               16  \n",
       "23        0.013509               16  \n",
       "24        0.013152               13  \n",
       "25        0.013152               13  \n",
       "26        0.013152               13  \n",
       "27        0.007071                1  \n",
       "28        0.007071                1  \n",
       "29        0.008019                8  "
      ]
     },
     "execution_count": 72,
     "metadata": {},
     "output_type": "execute_result"
    }
   ],
   "source": [
    "results = grid_tree.cv_results_\n",
    "\n",
    "df = pd.DataFrame(results)\n",
    "df[['param_criterion', 'param_max_depth', \"param_min_samples_split\", 'mean_test_score', 'std_test_score', 'rank_test_score']]"
   ]
  },
  {
   "cell_type": "code",
   "execution_count": 73,
   "metadata": {},
   "outputs": [],
   "source": [
    "tree_best_model = grid_tree.best_estimator_"
   ]
  },
  {
   "cell_type": "code",
   "execution_count": 80,
   "metadata": {},
   "outputs": [
    {
     "data": {
      "image/png": "[encoded data removed]",
      "text/plain": [
       "<Figure size 720x720 with 1 Axes>"
      ]
     },
     "metadata": {
      "needs_background": "light"
     },
     "output_type": "display_data"
    }
   ],
   "source": [
    "from sklearn.tree import plot_tree\n",
    "import matplotlib.pyplot as plt\n",
    "\n",
    "plt.figure(figsize= (10, 10))\n",
    "plot_tree(tree_best_model);"
   ]
  },
  {
   "cell_type": "code",
   "execution_count": 75,
   "metadata": {},
   "outputs": [
    {
     "data": {
      "text/plain": [
       "DecisionTreeClassifier(ccp_alpha=0.0, class_weight=None, criterion='entropy',\n",
       "                       max_depth=5, max_features=None, max_leaf_nodes=None,\n",
       "                       min_impurity_decrease=0.0, min_impurity_split=None,\n",
       "                       min_samples_leaf=1, min_samples_split=2,\n",
       "                       min_weight_fraction_leaf=0.0, presort='deprecated',\n",
       "                       random_state=42, splitter='best')"
      ]
     },
     "execution_count": 75,
     "metadata": {},
     "output_type": "execute_result"
    }
   ],
   "source": [
    "tree_best_model"
   ]
  },
  {
   "cell_type": "code",
   "execution_count": 76,
   "metadata": {},
   "outputs": [],
   "source": [
    "bestTree_y_pred_test = tree_best_model.predict(X_test)"
   ]
  },
  {
   "cell_type": "code",
   "execution_count": 77,
   "metadata": {},
   "outputs": [
    {
     "name": "stdout",
     "output_type": "stream",
     "text": [
      "Accuracy Score : 0.889487870619946\n",
      "Precision Score : 0.7931034482758621\n",
      "Recall Score : 0.39655172413793105\n",
      "F1 Score : 0.5287356321839081\n"
     ]
    }
   ],
   "source": [
    "print('Accuracy Score : ' + str(accuracy_score(y_test, bestTree_y_pred_test)))\n",
    "print('Precision Score : ' + str(precision_score(y_test, bestTree_y_pred_test)))\n",
    "print('Recall Score : ' + str(recall_score(y_test, bestTree_y_pred_test)))\n",
    "print('F1 Score : ' + str(f1_score(y_test, bestTree_y_pred_test)))"
   ]
  },
  {
   "cell_type": "code",
   "execution_count": 78,
   "metadata": {},
   "outputs": [
    {
     "name": "stdout",
     "output_type": "stream",
     "text": [
      "True Negative: 307\n",
      "False Positive: 6\n",
      "False Negative: 35\n",
      "True Positive: 23\n"
     ]
    }
   ],
   "source": [
    "tn, fp, fn, tp = confusion_matrix(y_test, bestTree_y_pred_test).ravel()\n",
    "\n",
    "print('True Negative: ' + str(tn))\n",
    "print('False Positive: ' + str(fp))\n",
    "print('False Negative: ' + str(fn))\n",
    "print('True Positive: ' + str(tp))"
   ]
  },
  {
   "cell_type": "markdown",
   "metadata": {},
   "source": [
    "- Como conslusión puede decirse que, fijando __5__ como máxima profundidad y utilizando entropía como criterio de decisión, el accuracy score (0.8894) supera el del modelo por default (0.8867) el cual tiene una profundidad de __22__ y utiliza el índice Gini como criterio de decisión. Por otro lado, se observa una reducción de F1 score de alrededor de 10 puntos porcentuales."
   ]
  },
  {
   "cell_type": "code",
   "execution_count": null,
   "metadata": {},
   "outputs": [],
   "source": []
  }
 ],
 "metadata": {
  "kernelspec": {
   "display_name": "Python [conda env:diplodatos-ayvd] *",
   "language": "python",
   "name": "conda-env-diplodatos-ayvd-py"
  },
  "language_info": {
   "codemirror_mode": {
    "name": "ipython",
    "version": 3
   },
   "file_extension": ".py",
   "mimetype": "text/x-python",
   "name": "python",
   "nbconvert_exporter": "python",
   "pygments_lexer": "ipython3",
   "version": "3.6.10"
  }
 },
 "nbformat": 4,
 "nbformat_minor": 4
}
